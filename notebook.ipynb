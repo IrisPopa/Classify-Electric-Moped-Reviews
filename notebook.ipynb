{
 "cells": [
  {
   "cell_type": "markdown",
   "id": "1e20b471-43f1-4e12-afb1-aa7825d8cc69",
   "metadata": {},
   "source": [
    "# Classify Electric Moped Reviews\n"
   ]
  },
  {
   "cell_type": "markdown",
   "id": "8a3c0392-2240-422e-a691-ac67d03c89e0",
   "metadata": {},
   "source": [
    "## Background\n",
    "EMO is a manufacturer of electric motorcycles.\n",
    "\n",
    "EMO launched its first electric motorcycle in India in 2019.\n",
    "\n",
    "The product team has been asking website users to rate the motorcycles.\n",
    "\n",
    "Ratings from owners help the product team to improve the quality of the motorcycles.\n",
    "\n",
    "Ratings from non-owners help the product team add new features. They hope the new features will increase the number of new ustomers.\n",
    "\n",
    "The product team wants to extend the survey. But, they want to be sure they can predict whether the ratings came from owners or non-owners."
   ]
  },
  {
   "cell_type": "markdown",
   "id": "7e0bec7d-d8d6-4aae-918d-9ffa5866b702",
   "metadata": {},
   "source": [
    "# Data Validation"
   ]
  },
  {
   "cell_type": "markdown",
   "id": "836353de-534f-460d-b9ce-e92cc3646c65",
   "metadata": {},
   "source": [
    "The dataset contains 1500 rows and 8 columns with missing values before cleaning. I have validated all the columns against the criteria in the dataset table:\n",
    "- owned: Same as description without missing values. Nominal with 2 categories - the reviewer owns the moped (1) or not (0). I convert it into 'category' data type.\n",
    "- make_model: same as description without missing values. Nominal with 6 categories (Nielah-Eyden, Nielah-Keetra, Lunna-Keetra, Hoang-Keetra, Lunna-Eyden, Hoang-Eyden). I convert it into 'category' data type.\n",
    "- review_month:  without missing values, but not all rows contain month names in English short format (Jan,Feb, Mar, Apr etc.).  I replace inconsistent values with English short format  and I convert it into category data type.\n",
    "- web_browser:  150+ missing values, so I replace missing values with 'unknown' and convert it into category data type. Nominal with 7 categories - web browser used by the user leaving the review, one of Chrome, IE, Firefox, Safari, Android, Opera, unknown. \n",
    "- reviewer_age: 105+ missing values labeled with ‘-’., so I replace missing values with the average age and convert it into 'int16' data type. Discrete - age of the user leaving the review. \n",
    "- primary_use: same as description without missing values. Nominal with 2 categories - One of Commuting or Leisure. I convert it into 'category' data type.\n",
    "- value_for_money:  without missing values, but the values are not numeric, so I remap incorrect categories to correct ones and I convert it into ordered categories.  Discrete - Rating given by the user on value for money of the bike from 1 to 10. \n",
    "- overall_rating: same as description without missing values. I convert it into 'float16' data type.  Continuous - total rating score after combining multiple rating scores, values from 0 to 25. \n",
    "\n",
    "**The resultant dataset contains 1500 rows and 8 columns.**  The dataset contains both numeric and non-numeric data, specifically the features 4, 6 and 7 contain numeric values (of types int16, category and float16, respectively) and all the other features contain non-numeric values (of types category). "
   ]
  },
  {
   "cell_type": "markdown",
   "id": "4280047b-f0a0-4a6e-9e21-847924d7264f",
   "metadata": {},
   "source": [
    "**Original Dataset**"
   ]
  },
  {
   "cell_type": "code",
   "execution_count": 1,
   "id": "b0588ce9-d984-40fa-b493-aa25a81c3109",
   "metadata": {
    "executionTime": 405,
    "lastSuccessfullyExecutedCode": "# Import pandas\nimport pandas as pd\nimport matplotlib.pyplot as plt\nimport seaborn as sns\nimport numpy as np\n\n# Load dataset\ndf = pd.read_csv(\"electric_bike_ratings_2212.csv\")\n\n# Print DataFrame information\nprint(df.info())\ndf.head()"
   },
   "outputs": [
    {
     "name": "stdout",
     "output_type": "stream",
     "text": [
      "<class 'pandas.core.frame.DataFrame'>\n",
      "RangeIndex: 1500 entries, 0 to 1499\n",
      "Data columns (total 8 columns):\n",
      " #   Column           Non-Null Count  Dtype  \n",
      "---  ------           --------------  -----  \n",
      " 0   owned            1500 non-null   int64  \n",
      " 1   make_model       1500 non-null   object \n",
      " 2   review_month     1500 non-null   object \n",
      " 3   web_browser      1350 non-null   object \n",
      " 4   reviewer_age     1500 non-null   object \n",
      " 5   primary_use      1500 non-null   object \n",
      " 6   value_for_money  1500 non-null   object \n",
      " 7   overall_rating   1500 non-null   float64\n",
      "dtypes: float64(1), int64(1), object(6)\n",
      "memory usage: 93.9+ KB\n",
      "None\n"
     ]
    },
    {
     "data": {
      "text/html": [
       "<div>\n",
       "<style scoped>\n",
       "    .dataframe tbody tr th:only-of-type {\n",
       "        vertical-align: middle;\n",
       "    }\n",
       "\n",
       "    .dataframe tbody tr th {\n",
       "        vertical-align: top;\n",
       "    }\n",
       "\n",
       "    .dataframe thead th {\n",
       "        text-align: right;\n",
       "    }\n",
       "</style>\n",
       "<table border=\"1\" class=\"dataframe\">\n",
       "  <thead>\n",
       "    <tr style=\"text-align: right;\">\n",
       "      <th></th>\n",
       "      <th>owned</th>\n",
       "      <th>make_model</th>\n",
       "      <th>review_month</th>\n",
       "      <th>web_browser</th>\n",
       "      <th>reviewer_age</th>\n",
       "      <th>primary_use</th>\n",
       "      <th>value_for_money</th>\n",
       "      <th>overall_rating</th>\n",
       "    </tr>\n",
       "  </thead>\n",
       "  <tbody>\n",
       "    <tr>\n",
       "      <th>0</th>\n",
       "      <td>1</td>\n",
       "      <td>Nielah-Eyden</td>\n",
       "      <td>Oct</td>\n",
       "      <td>Chrome</td>\n",
       "      <td>23</td>\n",
       "      <td>Commuting</td>\n",
       "      <td>5/10</td>\n",
       "      <td>18.62</td>\n",
       "    </tr>\n",
       "    <tr>\n",
       "      <th>1</th>\n",
       "      <td>0</td>\n",
       "      <td>Nielah-Keetra</td>\n",
       "      <td>Jun</td>\n",
       "      <td>NaN</td>\n",
       "      <td>24</td>\n",
       "      <td>Commuting</td>\n",
       "      <td>4/10</td>\n",
       "      <td>15.55</td>\n",
       "    </tr>\n",
       "    <tr>\n",
       "      <th>2</th>\n",
       "      <td>0</td>\n",
       "      <td>Lunna-Keetra</td>\n",
       "      <td>23-Oct</td>\n",
       "      <td>Chrome</td>\n",
       "      <td>28</td>\n",
       "      <td>Commuting</td>\n",
       "      <td>5/10</td>\n",
       "      <td>12.76</td>\n",
       "    </tr>\n",
       "    <tr>\n",
       "      <th>3</th>\n",
       "      <td>1</td>\n",
       "      <td>Hoang-Keetra</td>\n",
       "      <td>07-Nov</td>\n",
       "      <td>IE</td>\n",
       "      <td>41</td>\n",
       "      <td>Leisure</td>\n",
       "      <td>5/10</td>\n",
       "      <td>17.07</td>\n",
       "    </tr>\n",
       "    <tr>\n",
       "      <th>4</th>\n",
       "      <td>1</td>\n",
       "      <td>Lunna-Keetra</td>\n",
       "      <td>16-Sep</td>\n",
       "      <td>Chrome</td>\n",
       "      <td>33</td>\n",
       "      <td>Leisure</td>\n",
       "      <td>5/10</td>\n",
       "      <td>12.29</td>\n",
       "    </tr>\n",
       "  </tbody>\n",
       "</table>\n",
       "</div>"
      ],
      "text/plain": [
       "   owned     make_model review_month web_browser reviewer_age primary_use  \\\n",
       "0      1   Nielah-Eyden          Oct      Chrome           23   Commuting   \n",
       "1      0  Nielah-Keetra          Jun         NaN           24   Commuting   \n",
       "2      0   Lunna-Keetra       23-Oct      Chrome           28   Commuting   \n",
       "3      1   Hoang-Keetra       07-Nov          IE           41     Leisure   \n",
       "4      1   Lunna-Keetra       16-Sep      Chrome           33     Leisure   \n",
       "\n",
       "  value_for_money  overall_rating  \n",
       "0            5/10           18.62  \n",
       "1            4/10           15.55  \n",
       "2            5/10           12.76  \n",
       "3            5/10           17.07  \n",
       "4            5/10           12.29  "
      ]
     },
     "execution_count": 1,
     "metadata": {},
     "output_type": "execute_result"
    }
   ],
   "source": [
    "# Import pandas\n",
    "import pandas as pd\n",
    "import matplotlib.pyplot as plt\n",
    "import seaborn as sns\n",
    "import numpy as np\n",
    "import warnings\n",
    "warnings.filterwarnings('ignore')\n",
    "\n",
    "# Load dataset\n",
    "df = pd.read_csv(\"electric_bike_ratings_2212.csv\")\n",
    "\n",
    "# Print DataFrame information\n",
    "print(df.info())\n",
    "df.head()"
   ]
  },
  {
   "cell_type": "code",
   "execution_count": 2,
   "id": "5ba77432-768d-406b-8c73-9a70005b075d",
   "metadata": {
    "executionTime": 76,
    "lastSuccessfullyExecutedCode": "# Inspect data in 'owned' column.\ndisplay(df['owned'].isna().sum())\nprint(df['owned'].value_counts(), '\\n' , df['owned'].value_counts(normalize =True))"
   },
   "outputs": [
    {
     "data": {
      "text/plain": [
       "0"
      ]
     },
     "metadata": {},
     "output_type": "display_data"
    },
    {
     "name": "stdout",
     "output_type": "stream",
     "text": [
      "1    890\n",
      "0    610\n",
      "Name: owned, dtype: int64 \n",
      " 1    0.593333\n",
      "0    0.406667\n",
      "Name: owned, dtype: float64\n"
     ]
    }
   ],
   "source": [
    "# Inspect data in 'owned' column.\n",
    "display(df['owned'].isna().sum())\n",
    "print(df['owned'].value_counts(), '\\n' , df['owned'].value_counts(normalize =True))"
   ]
  },
  {
   "cell_type": "code",
   "execution_count": 3,
   "id": "808088e6-4ad7-450d-905e-899fd52e298a",
   "metadata": {
    "executionTime": 53,
    "lastSuccessfullyExecutedCode": "# Change the data type of 'make_model' to 'category'\ndf['owned'] = df['owned'].astype('category').cat.reorder_categories(new_categories = [0, 1], ordered =True)\ndf['owned'].dtypes"
   },
   "outputs": [
    {
     "data": {
      "text/plain": [
       "CategoricalDtype(categories=[0, 1], ordered=False)"
      ]
     },
     "execution_count": 3,
     "metadata": {},
     "output_type": "execute_result"
    }
   ],
   "source": [
    "# Change the data type of 'make_model' to 'category'\n",
    "df['owned'] = df['owned'].astype('category')\n",
    "df['owned'].dtypes"
   ]
  },
  {
   "cell_type": "code",
   "execution_count": 4,
   "id": "4fd8bf98-c975-4d17-be82-831fdd091493",
   "metadata": {
    "executionTime": 59,
    "lastSuccessfullyExecutedCode": "# Inspect data in 'make_model' column.\ndisplay(df['make_model'].isna().sum())\ndf['make_model'].value_counts()"
   },
   "outputs": [
    {
     "data": {
      "text/plain": [
       "0"
      ]
     },
     "metadata": {},
     "output_type": "display_data"
    },
    {
     "data": {
      "text/plain": [
       "Nielah-Eyden     652\n",
       "Lunna-Eyden      329\n",
       "Lunna-Keetra     178\n",
       "Hoang-Keetra     124\n",
       "Hoang-Eyden      124\n",
       "Nielah-Keetra     93\n",
       "Name: make_model, dtype: int64"
      ]
     },
     "execution_count": 4,
     "metadata": {},
     "output_type": "execute_result"
    }
   ],
   "source": [
    "# Inspect data in 'make_model' column.\n",
    "display(df['make_model'].isna().sum())\n",
    "df['make_model'].value_counts()"
   ]
  },
  {
   "cell_type": "code",
   "execution_count": 5,
   "id": "4192dae9-10df-446e-bdd4-221b60864434",
   "metadata": {
    "executionTime": 58,
    "lastSuccessfullyExecutedCode": "# Change the data type of 'make_model' to 'category'\ndf['make_model'] = df['make_model'].astype('category')\ndf['make_model'].dtypes"
   },
   "outputs": [
    {
     "data": {
      "text/plain": [
       "CategoricalDtype(categories=['Hoang-Eyden', 'Hoang-Keetra', 'Lunna-Eyden', 'Lunna-Keetra',\n",
       "                  'Nielah-Eyden', 'Nielah-Keetra'],\n",
       ", ordered=False)"
      ]
     },
     "execution_count": 5,
     "metadata": {},
     "output_type": "execute_result"
    }
   ],
   "source": [
    "# Change the data type of 'make_model' to 'category'\n",
    "df['make_model'] = df['make_model'].astype('category')\n",
    "df['make_model'].dtypes"
   ]
  },
  {
   "cell_type": "code",
   "execution_count": 6,
   "id": "ce65c306-f173-4311-8c11-cc4db0d5c597",
   "metadata": {
    "executionTime": 55,
    "lastSuccessfullyExecutedCode": "# Inspect data in 'review_month' column.\ndisplay(df['review_month'].isna().sum())\ndf['review_month'].value_counts()"
   },
   "outputs": [
    {
     "data": {
      "text/plain": [
       "0"
      ]
     },
     "metadata": {},
     "output_type": "display_data"
    },
    {
     "data": {
      "text/plain": [
       "Sep       73\n",
       "Mar       72\n",
       "May       68\n",
       "Nov       67\n",
       "Apr       65\n",
       "          ..\n",
       "10-Jul     1\n",
       "18-Aug     1\n",
       "14-Apr     1\n",
       "20-Sep     1\n",
       "06-Aug     1\n",
       "Name: review_month, Length: 332, dtype: int64"
      ]
     },
     "execution_count": 6,
     "metadata": {},
     "output_type": "execute_result"
    }
   ],
   "source": [
    "# Inspect data in 'review_month' column.\n",
    "display(df['review_month'].isna().sum())\n",
    "df['review_month'].value_counts()"
   ]
  },
  {
   "cell_type": "code",
   "execution_count": 7,
   "id": "8c788643-44ba-46a3-b5b6-715b9555086d",
   "metadata": {
    "executionTime": 54,
    "lastSuccessfullyExecutedCode": "# Replace inconsistent values with English short format month names\ndf['review_month'] = [x.split('-')[1] if len(x)>3 else x for x in df['review_month']]\ndisplay(len(df['review_month'].value_counts()))\ndf['review_month'].value_counts()"
   },
   "outputs": [
    {
     "data": {
      "text/plain": [
       "12"
      ]
     },
     "metadata": {},
     "output_type": "display_data"
    },
    {
     "data": {
      "text/plain": [
       "Sep    141\n",
       "Mar    141\n",
       "May    138\n",
       "Nov    126\n",
       "Jan    126\n",
       "Oct    125\n",
       "Jun    124\n",
       "Apr    123\n",
       "Dec    117\n",
       "Feb    115\n",
       "Aug    114\n",
       "Jul    110\n",
       "Name: review_month, dtype: int64"
      ]
     },
     "execution_count": 7,
     "metadata": {},
     "output_type": "execute_result"
    }
   ],
   "source": [
    "# Replace inconsistent values with English short format month names\n",
    "df['review_month'] = [x.split('-')[1] if len(x)>3 else x for x in df['review_month']]\n",
    "display(len(df['review_month'].value_counts()))\n",
    "df['review_month'].value_counts()"
   ]
  },
  {
   "cell_type": "code",
   "execution_count": 8,
   "id": "72e2fbb7-cb5b-446b-b5ba-b134f0750db9",
   "metadata": {
    "executionTime": 82,
    "lastSuccessfullyExecutedCode": "# Change the data type of 'review_month' to 'category'\ndf['review_month'] = df['review_month'].astype('category')\ndf['review_month'].dtypes"
   },
   "outputs": [
    {
     "data": {
      "text/plain": [
       "CategoricalDtype(categories=['Apr', 'Aug', 'Dec', 'Feb', 'Jan', 'Jul', 'Jun', 'Mar',\n",
       "                  'May', 'Nov', 'Oct', 'Sep'],\n",
       ", ordered=False)"
      ]
     },
     "execution_count": 8,
     "metadata": {},
     "output_type": "execute_result"
    }
   ],
   "source": [
    "# Change the data type of 'review_month' to 'category'\n",
    "df['review_month'] = df['review_month'].astype('category')\n",
    "df['review_month'].dtypes"
   ]
  },
  {
   "cell_type": "code",
   "execution_count": 9,
   "id": "ad321739-b7e3-4843-bc78-b4ac4f7aaa26",
   "metadata": {
    "executionTime": 56,
    "lastSuccessfullyExecutedCode": "# Inspect data in 'web_browser' column.\ndisplay(df['web_browser'].isna().sum())\ndf['web_browser'].value_counts()"
   },
   "outputs": [
    {
     "data": {
      "text/plain": [
       "150"
      ]
     },
     "metadata": {},
     "output_type": "display_data"
    },
    {
     "data": {
      "text/plain": [
       "Chrome     698\n",
       "IE         239\n",
       "Firefox    233\n",
       "Safari     133\n",
       "Opera       24\n",
       "Android     23\n",
       "Name: web_browser, dtype: int64"
      ]
     },
     "execution_count": 9,
     "metadata": {},
     "output_type": "execute_result"
    }
   ],
   "source": [
    "# Inspect data in 'web_browser' column.\n",
    "display(df['web_browser'].isna().sum())\n",
    "df['web_browser'].value_counts()"
   ]
  },
  {
   "cell_type": "code",
   "execution_count": 10,
   "id": "da9fcca8-ec12-4626-b59f-52fc3c47d590",
   "metadata": {
    "executionTime": 54,
    "lastSuccessfullyExecutedCode": "# Replace missing values with 'unknown' and change the data type to 'category'\ndf['web_browser'] = df['web_browser'].fillna('unknown')\ndf['web_browser'] = df['web_browser'].astype('category')\ndisplay(df['web_browser'].dtypes)\ndf['web_browser'].value_counts()"
   },
   "outputs": [
    {
     "data": {
      "text/plain": [
       "CategoricalDtype(categories=['Android', 'Chrome', 'Firefox', 'IE', 'Opera', 'Safari',\n",
       "                  'unknown'],\n",
       ", ordered=False)"
      ]
     },
     "metadata": {},
     "output_type": "display_data"
    },
    {
     "data": {
      "text/plain": [
       "Chrome     698\n",
       "IE         239\n",
       "Firefox    233\n",
       "unknown    150\n",
       "Safari     133\n",
       "Opera       24\n",
       "Android     23\n",
       "Name: web_browser, dtype: int64"
      ]
     },
     "execution_count": 10,
     "metadata": {},
     "output_type": "execute_result"
    }
   ],
   "source": [
    "# Replace missing values with 'unknown' and change the data type to 'category'\n",
    "df['web_browser'] = df['web_browser'].fillna('unknown')\n",
    "df['web_browser'] = df['web_browser'].astype('category')\n",
    "display(df['web_browser'].dtypes)\n",
    "df['web_browser'].value_counts()"
   ]
  },
  {
   "cell_type": "code",
   "execution_count": 11,
   "id": "28948c90-bbc2-4f1e-87b2-aef692f80882",
   "metadata": {
    "executionTime": 67,
    "lastSuccessfullyExecutedCode": "# Inspect data in 'owned' column.\ndisplay(df['reviewer_age'].isna().sum())\ndf['reviewer_age'].value_counts()"
   },
   "outputs": [
    {
     "data": {
      "text/plain": [
       "0"
      ]
     },
     "metadata": {},
     "output_type": "display_data"
    },
    {
     "data": {
      "text/plain": [
       "-     105\n",
       "19     52\n",
       "41     51\n",
       "45     50\n",
       "18     46\n",
       "44     46\n",
       "20     46\n",
       "40     45\n",
       "17     45\n",
       "37     45\n",
       "30     45\n",
       "39     45\n",
       "23     43\n",
       "16     43\n",
       "48     42\n",
       "46     41\n",
       "21     41\n",
       "22     40\n",
       "33     39\n",
       "26     39\n",
       "36     39\n",
       "24     39\n",
       "25     38\n",
       "27     38\n",
       "42     37\n",
       "47     37\n",
       "31     36\n",
       "28     36\n",
       "43     36\n",
       "29     35\n",
       "50     33\n",
       "34     32\n",
       "35     31\n",
       "32     30\n",
       "38     28\n",
       "49     26\n",
       "Name: reviewer_age, dtype: int64"
      ]
     },
     "execution_count": 11,
     "metadata": {},
     "output_type": "execute_result"
    }
   ],
   "source": [
    "# Inspect data in 'owned' column.\n",
    "display(df['reviewer_age'].isna().sum())\n",
    "df['reviewer_age'].value_counts()"
   ]
  },
  {
   "cell_type": "code",
   "execution_count": 12,
   "id": "ac5fb1c5-c7b2-4532-b3eb-8bb22c681fd5",
   "metadata": {
    "executionTime": 48,
    "lastSuccessfullyExecutedCode": "# Impute the missing values with mean imputation and change the data type to 'int16'\nimport numpy as np\ndf['reviewer_age'] = df['reviewer_age'].replace('-', np.nan).astype('float16')\ndf['reviewer_age'].fillna(df['reviewer_age'].mean(), inplace=True)\ndf['reviewer_age'] = df['reviewer_age'].astype('int16')\ndisplay(df['reviewer_age'].dtypes)\ndf['reviewer_age'].value_counts()"
   },
   "outputs": [
    {
     "data": {
      "text/plain": [
       "dtype('int16')"
      ]
     },
     "metadata": {},
     "output_type": "display_data"
    },
    {
     "data": {
      "text/plain": [
       "32    135\n",
       "19     52\n",
       "41     51\n",
       "45     50\n",
       "18     46\n",
       "44     46\n",
       "20     46\n",
       "40     45\n",
       "17     45\n",
       "37     45\n",
       "30     45\n",
       "39     45\n",
       "16     43\n",
       "23     43\n",
       "48     42\n",
       "21     41\n",
       "46     41\n",
       "22     40\n",
       "36     39\n",
       "33     39\n",
       "24     39\n",
       "26     39\n",
       "25     38\n",
       "27     38\n",
       "42     37\n",
       "47     37\n",
       "43     36\n",
       "28     36\n",
       "31     36\n",
       "29     35\n",
       "50     33\n",
       "34     32\n",
       "35     31\n",
       "38     28\n",
       "49     26\n",
       "Name: reviewer_age, dtype: int64"
      ]
     },
     "execution_count": 12,
     "metadata": {},
     "output_type": "execute_result"
    }
   ],
   "source": [
    "# Impute the missing values with mean imputation and change the data type to 'int16'\n",
    "import numpy as np\n",
    "df['reviewer_age'] = df['reviewer_age'].replace('-', np.nan).astype('float16')\n",
    "df['reviewer_age'].fillna(df['reviewer_age'].mean(), inplace=True)\n",
    "df['reviewer_age'] = df['reviewer_age'].astype('int16')\n",
    "display(df['reviewer_age'].dtypes)\n",
    "df['reviewer_age'].value_counts()"
   ]
  },
  {
   "cell_type": "code",
   "execution_count": 13,
   "id": "7fd3ea43-95b8-437f-a776-8a3160674da2",
   "metadata": {
    "executionTime": 52,
    "lastSuccessfullyExecutedCode": "# Inspect data in 'primary_use' column.\ndisplay(df['primary_use'].isna().sum())\ndf['primary_use'].value_counts()"
   },
   "outputs": [
    {
     "data": {
      "text/plain": [
       "0"
      ]
     },
     "metadata": {},
     "output_type": "display_data"
    },
    {
     "data": {
      "text/plain": [
       "Commuting    1095\n",
       "Leisure       405\n",
       "Name: primary_use, dtype: int64"
      ]
     },
     "execution_count": 13,
     "metadata": {},
     "output_type": "execute_result"
    }
   ],
   "source": [
    "# Inspect data in 'primary_use' column.\n",
    "display(df['primary_use'].isna().sum())\n",
    "df['primary_use'].value_counts()"
   ]
  },
  {
   "cell_type": "code",
   "execution_count": 14,
   "id": "cae43fbf-ca3c-4c5e-8e10-85596e9d6193",
   "metadata": {
    "executionTime": 52,
    "lastSuccessfullyExecutedCode": "# Change the data type of 'primary_use' to 'category'\ndf['primary_use'] = df['primary_use'].astype('category')\ndf['primary_use'].dtypes"
   },
   "outputs": [
    {
     "data": {
      "text/plain": [
       "CategoricalDtype(categories=['Commuting', 'Leisure'], ordered=False)"
      ]
     },
     "execution_count": 14,
     "metadata": {},
     "output_type": "execute_result"
    }
   ],
   "source": [
    "# Change the data type of 'primary_use' to 'category'\n",
    "df['primary_use'] = df['primary_use'].astype('category')\n",
    "df['primary_use'].dtypes"
   ]
  },
  {
   "cell_type": "code",
   "execution_count": 15,
   "id": "d8e82593-c434-4f78-8d0d-6f1fdf36262b",
   "metadata": {
    "executionTime": 51,
    "lastSuccessfullyExecutedCode": "# Inspect data in 'value_for_money' column.\ndisplay(df['value_for_money'].isna().sum())\ndf['value_for_money'].value_counts()"
   },
   "outputs": [
    {
     "data": {
      "text/plain": [
       "0"
      ]
     },
     "metadata": {},
     "output_type": "display_data"
    },
    {
     "data": {
      "text/plain": [
       "5/10     387\n",
       "6/10     323\n",
       "4/10     315\n",
       "3/10     183\n",
       "7/10     167\n",
       "2/10      53\n",
       "8/10      52\n",
       "1/10      11\n",
       "9/10       8\n",
       "10/10      1\n",
       "Name: value_for_money, dtype: int64"
      ]
     },
     "execution_count": 15,
     "metadata": {},
     "output_type": "execute_result"
    }
   ],
   "source": [
    "# Inspect data in 'value_for_money' column.\n",
    "display(df['value_for_money'].isna().sum())\n",
    "df['value_for_money'].value_counts()"
   ]
  },
  {
   "cell_type": "code",
   "execution_count": 16,
   "id": "5a788abf-795f-4b96-aa03-f5a66ba33b9e",
   "metadata": {
    "executionTime": 52,
    "lastSuccessfullyExecutedCode": "# remap incorrect categories to correct ones and convert into ordered categories\ndf['value_for_money'] = df['value_for_money'].replace({'5/10':5, '4/10':4, '3/10':3, \n                                                       '7/10':7, '6/10':6, '2/10':2,'9/10':9,\n                                                       '8/10':8, '10/10':10, '1/10':1})\ndf['value_for_money'] = df['value_for_money'].astype('category').cat.reorder_categories(\n    new_categories = [1, 2, 3, 4, 5, 6, 7, 8, 9, 10], ordered =True)\ndf['value_for_money'].dtypes"
   },
   "outputs": [
    {
     "data": {
      "text/plain": [
       "CategoricalDtype(categories=[1, 2, 3, 4, 5, 6, 7, 8, 9, 10], ordered=True)"
      ]
     },
     "execution_count": 16,
     "metadata": {},
     "output_type": "execute_result"
    }
   ],
   "source": [
    "# remap incorrect categories to correct ones and convert into ordered categories\n",
    "df['value_for_money'] = df['value_for_money'].replace({'5/10':5, '4/10':4, '3/10':3, \n",
    "                                                       '7/10':7, '6/10':6, '2/10':2,'9/10':9,\n",
    "                                                       '8/10':8, '10/10':10, '1/10':1})\n",
    "df['value_for_money'] = df['value_for_money'].astype('category').cat.reorder_categories(\n",
    "    new_categories = [1, 2, 3, 4, 5, 6, 7, 8, 9, 10], ordered =True)\n",
    "df['value_for_money'].dtypes"
   ]
  },
  {
   "cell_type": "code",
   "execution_count": 17,
   "id": "c79a13c2-45c7-4589-8948-4c42bfef176c",
   "metadata": {
    "executionTime": 57,
    "lastSuccessfullyExecutedCode": "# Inspect data in 'overall_rating' column.\ndisplay(df['overall_rating'].isna().sum())\ndf['overall_rating'].nunique()"
   },
   "outputs": [
    {
     "data": {
      "text/plain": [
       "0"
      ]
     },
     "metadata": {},
     "output_type": "display_data"
    },
    {
     "data": {
      "text/plain": [
       "583"
      ]
     },
     "execution_count": 17,
     "metadata": {},
     "output_type": "execute_result"
    }
   ],
   "source": [
    "# Inspect data in 'overall_rating' column.\n",
    "display(df['overall_rating'].isna().sum())\n",
    "df['overall_rating'].nunique()"
   ]
  },
  {
   "cell_type": "code",
   "execution_count": 18,
   "id": "dc352b68-5121-4822-bec2-58fcf2804e67",
   "metadata": {
    "executionTime": 44,
    "lastSuccessfullyExecutedCode": "# Change the data type to 'float16'\ndf['overall_rating'] = df['overall_rating'].astype('float16')\nprint(df['overall_rating'].dtypes, '\\n', df['overall_rating'].min(), '\\n',  df['overall_rating'].max())"
   },
   "outputs": [
    {
     "name": "stdout",
     "output_type": "stream",
     "text": [
      "float16 \n",
      " 11.69 \n",
      " 22.77\n"
     ]
    }
   ],
   "source": [
    "# Change the data type to 'float16'\n",
    "df['overall_rating'] = df['overall_rating'].astype('float16')\n",
    "print(df['overall_rating'].dtypes, '\\n', df['overall_rating'].min(), '\\n',  df['overall_rating'].max())"
   ]
  },
  {
   "cell_type": "code",
   "execution_count": 19,
   "id": "4042b014-2af8-459d-809d-531716560605",
   "metadata": {
    "executionTime": 49,
    "lastSuccessfullyExecutedCode": "# Inspect the resultant dataframe\ndf.info()"
   },
   "outputs": [
    {
     "name": "stdout",
     "output_type": "stream",
     "text": [
      "<class 'pandas.core.frame.DataFrame'>\n",
      "RangeIndex: 1500 entries, 0 to 1499\n",
      "Data columns (total 8 columns):\n",
      " #   Column           Non-Null Count  Dtype   \n",
      "---  ------           --------------  -----   \n",
      " 0   owned            1500 non-null   category\n",
      " 1   make_model       1500 non-null   category\n",
      " 2   review_month     1500 non-null   category\n",
      " 3   web_browser      1500 non-null   category\n",
      " 4   reviewer_age     1500 non-null   int16   \n",
      " 5   primary_use      1500 non-null   category\n",
      " 6   value_for_money  1500 non-null   category\n",
      " 7   overall_rating   1500 non-null   float16 \n",
      "dtypes: category(6), float16(1), int16(1)\n",
      "memory usage: 16.3 KB\n"
     ]
    }
   ],
   "source": [
    "# Inspect the resultant dataframe\n",
    "df.info()"
   ]
  },
  {
   "cell_type": "code",
   "execution_count": 20,
   "id": "f576646c-903c-4515-87d4-a7a9e793df10",
   "metadata": {
    "executionTime": 52,
    "lastSuccessfullyExecutedCode": "# Print summary statistics\ndf.describe()"
   },
   "outputs": [
    {
     "data": {
      "text/html": [
       "<div>\n",
       "<style scoped>\n",
       "    .dataframe tbody tr th:only-of-type {\n",
       "        vertical-align: middle;\n",
       "    }\n",
       "\n",
       "    .dataframe tbody tr th {\n",
       "        vertical-align: top;\n",
       "    }\n",
       "\n",
       "    .dataframe thead th {\n",
       "        text-align: right;\n",
       "    }\n",
       "</style>\n",
       "<table border=\"1\" class=\"dataframe\">\n",
       "  <thead>\n",
       "    <tr style=\"text-align: right;\">\n",
       "      <th></th>\n",
       "      <th>reviewer_age</th>\n",
       "      <th>overall_rating</th>\n",
       "    </tr>\n",
       "  </thead>\n",
       "  <tbody>\n",
       "    <tr>\n",
       "      <th>count</th>\n",
       "      <td>1500.000000</td>\n",
       "      <td>1500.000000</td>\n",
       "    </tr>\n",
       "    <tr>\n",
       "      <th>mean</th>\n",
       "      <td>32.556000</td>\n",
       "      <td>17.140625</td>\n",
       "    </tr>\n",
       "    <tr>\n",
       "      <th>std</th>\n",
       "      <td>9.876769</td>\n",
       "      <td>2.445312</td>\n",
       "    </tr>\n",
       "    <tr>\n",
       "      <th>min</th>\n",
       "      <td>16.000000</td>\n",
       "      <td>11.687500</td>\n",
       "    </tr>\n",
       "    <tr>\n",
       "      <th>25%</th>\n",
       "      <td>24.000000</td>\n",
       "      <td>15.320312</td>\n",
       "    </tr>\n",
       "    <tr>\n",
       "      <th>50%</th>\n",
       "      <td>32.000000</td>\n",
       "      <td>18.234375</td>\n",
       "    </tr>\n",
       "    <tr>\n",
       "      <th>75%</th>\n",
       "      <td>41.000000</td>\n",
       "      <td>18.843750</td>\n",
       "    </tr>\n",
       "    <tr>\n",
       "      <th>max</th>\n",
       "      <td>50.000000</td>\n",
       "      <td>22.765625</td>\n",
       "    </tr>\n",
       "  </tbody>\n",
       "</table>\n",
       "</div>"
      ],
      "text/plain": [
       "       reviewer_age  overall_rating\n",
       "count   1500.000000     1500.000000\n",
       "mean      32.556000       17.140625\n",
       "std        9.876769        2.445312\n",
       "min       16.000000       11.687500\n",
       "25%       24.000000       15.320312\n",
       "50%       32.000000       18.234375\n",
       "75%       41.000000       18.843750\n",
       "max       50.000000       22.765625"
      ]
     },
     "execution_count": 20,
     "metadata": {},
     "output_type": "execute_result"
    }
   ],
   "source": [
    "# Print summary statistics\n",
    "df.describe()"
   ]
  },
  {
   "cell_type": "markdown",
   "id": "1557814c-02dd-4eba-846d-4c460118bfbd",
   "metadata": {},
   "source": [
    "# Exploratory Analysis"
   ]
  },
  {
   "cell_type": "markdown",
   "id": "397deba1-d4bb-4ab1-a7e9-33276078f639",
   "metadata": {},
   "source": [
    "From Graph 1, we can see the proportion of the minority class (1), indicating the reviewers who owns the moped, is about 41%. Therefore, the imbalanced class issue is mild, so I decided not to address this issue at this point."
   ]
  },
  {
   "cell_type": "code",
   "execution_count": 21,
   "id": "b8a12886-1e0f-4bb2-8946-395b43310ad9",
   "metadata": {
    "collapsed": false,
    "executionTime": 94,
    "jupyter": {
     "outputs_hidden": false,
     "source_hidden": false
    },
    "lastSuccessfullyExecutedCode": "# Create a count plot of the target variable - owned\ng = sns.countplot(x=\"owned\", data=df)\ng.set_title('Graph 1 - Count of the target variable \"owned\"')\nplt.show()"
   },
   "outputs": [
    {
     "data": {
      "image/png": "[encoded data removed]",
      "text/plain": [
       "<Figure size 432x288 with 1 Axes>"
      ]
     },
     "metadata": {
      "needs_background": "light"
     },
     "output_type": "display_data"
    }
   ],
   "source": [
    "# Create a count plot of the target variable - owned\n",
    "g = sns.countplot(x=\"owned\", data=df)\n",
    "g.set_title('Graph 1 - Count of the target variable \"owned\"')\n",
    "plt.show()"
   ]
  },
  {
   "cell_type": "markdown",
   "id": "5468d536-ca93-4c32-ac00-891fe5992321",
   "metadata": {},
   "source": [
    "From Graph 2 we can see the distribution of the variable - overall_rating:\n",
    "\n",
    "- we don't see outliers, the range of values is between 11 and 23. \n",
    "- the reviews with a total rating score of 19 are the most numerous (around 350 from which 250 are reviewers who owns the moped and 100 are reviewers who don't owns the moped)."
   ]
  },
  {
   "cell_type": "code",
   "execution_count": 22,
   "id": "b8bb0dc0-6a7d-4018-bdd2-c9d827a38c52",
   "metadata": {
    "executionTime": 70,
    "lastSuccessfullyExecutedCode": "# Create a historgram and a boxplot of the variable - overall_rating\nfig, (ax0, ax1) = plt.subplots(nrows=1, ncols=2, sharey=False, sharex=False, figsize=(12,6))\nsns.histplot(data =df, x='overall_rating', hue=\"owned\", stat='count', kde=True,  multiple=\"stack\", ax=ax0).set(title = 'The histogram of the  \"overall_rating\"')\nsns.boxplot(y='overall_rating', data = df,  hue=\"owned\", ax=ax1).set(title = 'The boxplot of the \"overall_rating\"')\nax0.axvline(x=df['overall_rating'].mean(), label='Mean', linestyle='--')\nfig.suptitle('Graph 2 - The distribution of \"overall_rating\"')\nplt.show()"
   },
   "outputs": [
    {
     "data": {
      "image/png": "[encoded data removed]",
      "text/plain": [
       "<Figure size 864x432 with 2 Axes>"
      ]
     },
     "metadata": {
      "needs_background": "light"
     },
     "output_type": "display_data"
    }
   ],
   "source": [
    "# Create a historgram and a boxplot of the variable - overall_rating\n",
    "fig, (ax0, ax1) = plt.subplots(nrows=1, ncols=2, sharey=False, sharex=False, figsize=(12,6))\n",
    "sns.histplot(data =df, x='overall_rating', hue=\"owned\", stat='count', kde=True,  multiple=\"stack\", ax=ax0).set(title = 'The histogram of the  \"overall_rating\"')\n",
    "sns.boxplot(y='overall_rating', data = df,  hue=\"owned\", ax=ax1).set(title = 'The boxplot of the \"overall_rating\"')\n",
    "ax0.axvline(x=df['overall_rating'].mean(), label='Mean', linestyle='--')\n",
    "fig.suptitle('Graph 2 - The distribution of \"overall_rating\"')\n",
    "plt.show()"
   ]
  },
  {
   "cell_type": "markdown",
   "id": "329a28d1-033d-4120-b6d6-f203080ad1e3",
   "metadata": {},
   "source": [
    "From **Graph 3** we can see the distribution of the variable - reviewer_age :\n",
    "\n",
    "- we don't see outliers, the range of values is between 16 and 50.\n",
    "- the reviews with an age of 32 are the most numerous (around 135 from which 80 are reviewers who owns the moped and 55 are reviewers who don't owns the moped)."
   ]
  },
  {
   "cell_type": "code",
   "execution_count": 23,
   "id": "f81a071b-7d8c-463e-a5c3-3f69b78a9bb2",
   "metadata": {
    "executionTime": 58,
    "lastSuccessfullyExecutedCode": "# Create a historgram and a boxplot of the  variable - reviewer_age \nfig, (ax0, ax1) = plt.subplots(nrows=1, ncols=2, sharey=False, sharex=False, figsize=(12,6))\nsns.histplot(data =df, x='reviewer_age', hue=\"owned\", stat='count', kde=True, label = \"owned\", bins = 34,  multiple=\"stack\",  ax=ax0).set(title = 'The histogram of the  \"reviewer_age\"')\nsns.boxplot(y='reviewer_age', data = df,  ax=ax1).set(title = 'The boxplot of the \"reviewer_age\"')\nax0.axvline(x=df['reviewer_age'].mean(), label='Mean', linestyle='--')\nfig.suptitle('Graph 3 - The distribution of \"reviewer_age\"')\nplt.show()"
   },
   "outputs": [
    {
     "data": {
      "image/png": "[encoded data removed]",
      "text/plain": [
       "<Figure size 864x432 with 2 Axes>"
      ]
     },
     "metadata": {
      "needs_background": "light"
     },
     "output_type": "display_data"
    }
   ],
   "source": [
    "# Create a historgram and a boxplot of the  variable - reviewer_age \n",
    "fig, (ax0, ax1) = plt.subplots(nrows=1, ncols=2, sharey=False, sharex=False, figsize=(12,6))\n",
    "sns.histplot(data =df, x='reviewer_age', hue=\"owned\", stat='count', kde=True, label = \"owned\", bins = 34,  multiple=\"stack\",  ax=ax0).set(title = 'The histogram of the  \"reviewer_age\"')\n",
    "sns.boxplot(y='reviewer_age', data = df,  ax=ax1).set(title = 'The boxplot of the \"reviewer_age\"')\n",
    "ax0.axvline(x=df['reviewer_age'].mean(), label='Mean', linestyle='--')\n",
    "fig.suptitle('Graph 3 - The distribution of \"reviewer_age\"')\n",
    "plt.show()"
   ]
  },
  {
   "cell_type": "markdown",
   "id": "ca88e5de-0251-4221-8ec4-56623a76d523",
   "metadata": {},
   "source": [
    "\n",
    "From **Graph 4** - 'The boxplot between ownership and overall rating: we can tell from the boxplot that the reviewers who don't owns the moped have a lower total score than the reviewers who owns the moped. The median and the mean of the reviewers holding the moped is higher than the overall rating and the median and the mean of the reviewers not holding the moped is lower. We can also see that the interquartile range is greater on the overall rating of reviewers who don't owns the moped, which means that for this category the overall rating has a greater variation."
   ]
  },
  {
   "cell_type": "code",
   "execution_count": 24,
   "id": "ce2b6896-6928-4ebb-94a5-7443126522c3",
   "metadata": {
    "executionTime": 46,
    "lastSuccessfullyExecutedCode": "# Create a boxplot between ownership and overall rating showing the mean value for each group and the quartiles \ncat = sns.catplot(data=df, x=\"overall_rating\", y ='owned', kind ='box', showmeans=True, height=4, aspect=3).set(\n    title = 'Graph 4 - The boxplot between ownership and overall rating')\nplt.axvline(x=df['overall_rating'].mean(), label='Mean of all data \\n in overall_rating', linestyle='--', color = 'r')\nplt.legend()\nplt.show()"
   },
   "outputs": [
    {
     "data": {
      "image/png": "[encoded data removed]",
      "text/plain": [
       "<Figure size 864x288 with 1 Axes>"
      ]
     },
     "metadata": {
      "needs_background": "light"
     },
     "output_type": "display_data"
    }
   ],
   "source": [
    "# Create a boxplot between ownership and overall rating showing the mean value for each group and the quartiles \n",
    "cat = sns.catplot(data=df, x=\"overall_rating\", y ='owned', kind ='box', showmeans=True, height=4, aspect=3).set(\n",
    "    title = 'Graph 4 - The boxplot between ownership and overall rating')\n",
    "plt.axvline(x=df['overall_rating'].mean(), label='Mean of all data \\n in overall_rating', linestyle='--', color = 'r')\n",
    "plt.legend()\n",
    "plt.show()"
   ]
  },
  {
   "cell_type": "markdown",
   "id": "90d9058d-1004-4813-87df-08493456521e",
   "metadata": {},
   "source": []
  },
  {
   "cell_type": "markdown",
   "id": "68ff3d67-cadc-4cea-ab84-6bda65fee395",
   "metadata": {},
   "source": [
    "From **Graph 5** - The boxplot between ownership and reviewer_age: we can see that the interquartile range is greater for the age of reviewers who don't owns the moped, which means that for this category the age variation is greater."
   ]
  },
  {
   "cell_type": "code",
   "execution_count": 25,
   "id": "d6045bab-c214-4096-83dc-3461fc650764",
   "metadata": {
    "executionTime": 45,
    "lastSuccessfullyExecutedCode": "# Create a boxplot between ownership and reviewer_age showing the mean value for each group and the quartiles \ncat = sns.catplot(data=df, x=\"reviewer_age\", y ='owned', kind ='box', showmeans=True, height=4, aspect=3).set(\n    title = 'Graph 4 - The boxplot between ownership and reviewer_age')\nplt.axvline(x=df['reviewer_age'].mean(), label='Mean of all data \\n in reviewer_age', linestyle='--', color = 'r')\nplt.legend()\nplt.show()"
   },
   "outputs": [
    {
     "data": {
      "image/png": "[encoded data removed]",
      "text/plain": [
       "<Figure size 864x288 with 1 Axes>"
      ]
     },
     "metadata": {
      "needs_background": "light"
     },
     "output_type": "display_data"
    }
   ],
   "source": [
    "# Create a boxplot between ownership and reviewer_age showing the mean value for each group and the quartiles \n",
    "cat = sns.catplot(data=df, x=\"reviewer_age\", y ='owned', kind ='box', showmeans=True, height=4, aspect=3).set(\n",
    "    title = 'Graph 4 - The boxplot between ownership and reviewer_age')\n",
    "plt.axvline(x=df['reviewer_age'].mean(), label='Mean of all data \\n in reviewer_age', linestyle='--', color = 'r')\n",
    "plt.legend()\n",
    "plt.show()"
   ]
  },
  {
   "cell_type": "markdown",
   "id": "6890b272-68e3-4393-bd74-a887de3c9500",
   "metadata": {},
   "source": [
    "From **Graph 6** we can see that the distribution of the variable 'value_for_money' has the shape of a normal distribution, and the value_for_money the most frequent is 5 (about 390 reviewers give this rating from which 240 are reviewers who owns the moped and 150 are reviewers who don't owns the moped). The reviewers who don't owns the moped give a lower rating than the reviewers who owns the moped."
   ]
  },
  {
   "cell_type": "code",
   "execution_count": 26,
   "id": "ba5f3540-5f06-4653-a56c-c9ca523b19ed",
   "metadata": {
    "executionTime": 87,
    "lastSuccessfullyExecutedCode": "# Create a historgram  of the  variable - value_for_money\nfig, (ax0, ax1) = plt.subplots(nrows=1, ncols=2, sharey=False, figsize=(12, 5))\nsns.histplot(df['value_for_money'], stat='count',  bins = 10,  ax=ax0).set(title = 'The distribution of the variable \"value_for_money\"')\nax0.grid(axis=\"y\")\nsns.histplot(data =df, x='value_for_money', hue=\"owned\", stat='count',  kde=True,  ax=ax1).set(title = 'The distribution between \\n ownership and \"value_for_money\"')\nax1.grid(axis=\"y\")\nfig.suptitle('Graph 6')\nplt.show()"
   },
   "outputs": [
    {
     "data": {
      "image/png": "[encoded data removed]",
      "text/plain": [
       "<Figure size 864x360 with 2 Axes>"
      ]
     },
     "metadata": {
      "needs_background": "light"
     },
     "output_type": "display_data"
    }
   ],
   "source": [
    "# Create a historgram  of the  variable - value_for_money\n",
    "fig, (ax0, ax1) = plt.subplots(nrows=1, ncols=2, sharey=False, figsize=(12, 5))\n",
    "sns.histplot(df['value_for_money'], stat='count',  bins = 10,  ax=ax0).set(title = 'The distribution of the variable \"value_for_money\"')\n",
    "ax0.grid(axis=\"y\")\n",
    "sns.histplot(data =df, x='value_for_money', hue=\"owned\", stat='count',  kde=True,  ax=ax1).set(title = 'The distribution between \\n ownership and \"value_for_money\"')\n",
    "ax1.grid(axis=\"y\")\n",
    "fig.suptitle('Graph 6')\n",
    "plt.show()"
   ]
  },
  {
   "cell_type": "code",
   "execution_count": 27,
   "id": "ae093f90-88fb-4c84-9545-7ccb06aa3f5e",
   "metadata": {
    "executionTime": 66,
    "lastSuccessfullyExecutedCode": "df['make_model'].value_counts()"
   },
   "outputs": [
    {
     "data": {
      "text/plain": [
       "Nielah-Eyden     652\n",
       "Lunna-Eyden      329\n",
       "Lunna-Keetra     178\n",
       "Hoang-Eyden      124\n",
       "Hoang-Keetra     124\n",
       "Nielah-Keetra     93\n",
       "Name: make_model, dtype: int64"
      ]
     },
     "execution_count": 27,
     "metadata": {},
     "output_type": "execute_result"
    }
   ],
   "source": [
    "df['make_model'].value_counts()"
   ]
  },
  {
   "cell_type": "markdown",
   "id": "16d88822-c15d-49c1-88dd-11e48425d7cd",
   "metadata": {},
   "source": [
    "From **Graph 7** we can see that the model that has the most reviews is Nielah_Eyden  (around 650 from which 500 are reviewers who owns the moped and 150 are reviewers who don't owns the moped). The models Nielah-Eyden, Nielah-Keetra, Hoang-Eyden and Hoang-Keetra have more reviews from reviewers who owns the moped, the models Lunna-Eyden and Lunna-Keetra have more reviews from reviewers who don't owns the moped."
   ]
  },
  {
   "cell_type": "markdown",
   "id": "fa0f8ffe-e760-43c2-84f2-2b8f3b885290",
   "metadata": {},
   "source": []
  },
  {
   "cell_type": "code",
   "execution_count": 28,
   "id": "904c6c2d-3610-42b5-bd88-318f37dced35",
   "metadata": {
    "executionTime": 67,
    "lastSuccessfullyExecutedCode": "# Create a barplot of the  variable - make_model\nfig, (ax0, ax1) = plt.subplots(nrows=1, ncols=2, sharey=False, figsize=(12, 5))\nsns.histplot(df['make_model'], stat='count',  bins = 6,  ax=ax0).set(title = 'The distribution of the variable \"make_model\"')\nax0.xaxis.set_tick_params(rotation=45)\nax0.grid(axis=\"y\")\nsns.histplot(data =df, x='make_model', hue=\"owned\", bins = 6, stat='count',  kde=True, ax=ax1).set(title = 'The distribution between \\n ownership and \"make_model')\nax1.grid(axis='y')\nax1.xaxis.set_tick_params(rotation=45)\nfig.suptitle('Graph 7')\nplt.show()"
   },
   "outputs": [
    {
     "data": {
      "image/png": "[encoded data removed]",
      "text/plain": [
       "<Figure size 864x360 with 2 Axes>"
      ]
     },
     "metadata": {
      "needs_background": "light"
     },
     "output_type": "display_data"
    }
   ],
   "source": [
    "# Create a barplot of the  variable - make_model\n",
    "fig, (ax0, ax1) = plt.subplots(nrows=1, ncols=2, sharey=False, figsize=(12, 5))\n",
    "sns.histplot(df['make_model'], stat='count',  bins = 6,  ax=ax0).set(title = 'The distribution of the variable \"make_model\"')\n",
    "ax0.xaxis.set_tick_params(rotation=45)\n",
    "ax0.grid(axis=\"y\")\n",
    "sns.histplot(data =df, x='make_model', hue=\"owned\", bins = 6, stat='count',  kde=True, ax=ax1).set(title = 'The distribution between \\n ownership and \"make_model')\n",
    "ax1.grid(axis='y')\n",
    "ax1.xaxis.set_tick_params(rotation=45)\n",
    "fig.suptitle('Graph 7')\n",
    "plt.show()"
   ]
  },
  {
   "cell_type": "markdown",
   "id": "45ce0cb8-7f18-42f4-b27a-96cb795859c3",
   "metadata": {},
   "source": [
    "From **Graph 8** we can see that the months with the most reviews are March and September, follow by May."
   ]
  },
  {
   "cell_type": "code",
   "execution_count": 29,
   "id": "8b8bac32-0678-40cf-abe8-aed44f72812b",
   "metadata": {
    "executionTime": 49,
    "lastSuccessfullyExecutedCode": "# Create a barplot of the  variable - review_month\nfig, (ax0, ax1) = plt.subplots(nrows=1, ncols=2, sharey=False, figsize=(12, 5))\nsns.histplot(df['review_month'], stat='count',  bins = 10,  ax=ax0).set(title = 'The distribution of the variable \"review_month\"')\nax0.xaxis.set_tick_params(rotation=45)\nax0.grid(axis='y')\nsns.histplot(data =df, x='review_month', hue=\"owned\", stat='count', kde=True,  ax=ax1).set(title = 'The distribution between \\n ownership and \"review_month')\nax1.xaxis.set_tick_params(rotation=45)\nax1.grid(axis='y')\nfig.suptitle('Graph 8')\nplt.show()"
   },
   "outputs": [
    {
     "data": {
      "image/png": "[encoded data removed]",
      "text/plain": [
       "<Figure size 864x360 with 2 Axes>"
      ]
     },
     "metadata": {
      "needs_background": "light"
     },
     "output_type": "display_data"
    }
   ],
   "source": [
    "# Create a barplot of the  variable - review_month\n",
    "fig, (ax0, ax1) = plt.subplots(nrows=1, ncols=2, sharey=False, figsize=(12, 5))\n",
    "sns.histplot(df['review_month'], stat='count',  bins = 10,  ax=ax0).set(title = 'The distribution of the variable \"review_month\"')\n",
    "ax0.xaxis.set_tick_params(rotation=45)\n",
    "ax0.grid(axis='y')\n",
    "sns.histplot(data =df, x='review_month', hue=\"owned\", stat='count', kde=True,  ax=ax1).set(title = 'The distribution between \\n ownership and \"review_month')\n",
    "ax1.xaxis.set_tick_params(rotation=45)\n",
    "ax1.grid(axis='y')\n",
    "fig.suptitle('Graph 8')\n",
    "plt.show()"
   ]
  },
  {
   "cell_type": "markdown",
   "id": "d8f0a9f8-e663-46b8-9ef6-ab5b3dc0c8d3",
   "metadata": {},
   "source": [
    "From **Graph 9** we can see that the most used web browser by the user leaving the review  is Chrome, followed by Firefox and IE."
   ]
  },
  {
   "cell_type": "code",
   "execution_count": 30,
   "id": "8838530c-4a6b-4624-b1d3-76f995497642",
   "metadata": {
    "executionTime": 52,
    "lastSuccessfullyExecutedCode": "# Create a barplot of the  variable - web_browser\nfig, (ax0, ax1) = plt.subplots(nrows=1, ncols=2, sharey=False, figsize=(12, 5))\nsns.histplot(df['web_browser'], stat='count',  bins = 10,  ax=ax0).set(title = 'The distribution of the variable \"web_browser\"')\nax0.xaxis.set_tick_params(rotation=45)\nax0.grid(axis='y')\nsns.histplot(data =df, x='web_browser', hue=\"owned\", stat='count',  kde=True, ax=ax1).set(title = 'The distribution between \\n ownership and \"web_browser')\nax1.xaxis.set_tick_params(rotation=45)\nax1.grid(axis='y')\nfig.suptitle('Graph 9')\nplt.show()"
   },
   "outputs": [
    {
     "data": {
      "image/png": "[encoded data removed]",
      "text/plain": [
       "<Figure size 864x360 with 2 Axes>"
      ]
     },
     "metadata": {
      "needs_background": "light"
     },
     "output_type": "display_data"
    }
   ],
   "source": [
    "# Create a barplot of the  variable - web_browser\n",
    "fig, (ax0, ax1) = plt.subplots(nrows=1, ncols=2, sharey=False, figsize=(12, 5))\n",
    "sns.histplot(df['web_browser'], stat='count',  bins = 10,  ax=ax0).set(title = 'The distribution of the variable \"web_browser\"')\n",
    "ax0.xaxis.set_tick_params(rotation=45)\n",
    "ax0.grid(axis='y')\n",
    "sns.histplot(data =df, x='web_browser', hue=\"owned\", stat='count',  kde=True, ax=ax1).set(title = 'The distribution between \\n ownership and \"web_browser')\n",
    "ax1.xaxis.set_tick_params(rotation=45)\n",
    "ax1.grid(axis='y')\n",
    "fig.suptitle('Graph 9')\n",
    "plt.show()"
   ]
  },
  {
   "cell_type": "markdown",
   "id": "c339ea24-9179-4753-b17a-b87ad0fa56f9",
   "metadata": {},
   "source": [
    "From **Graph 10** we can see that reviewers who use the moped for commuting are more numerous than those who use it for leisure."
   ]
  },
  {
   "cell_type": "markdown",
   "id": "21c09224-2ec4-4ae3-9cf0-0dff743c8268",
   "metadata": {},
   "source": []
  },
  {
   "cell_type": "code",
   "execution_count": 31,
   "id": "d433dc26-4fab-4176-afce-692c27f135af",
   "metadata": {
    "executionTime": 172,
    "lastSuccessfullyExecutedCode": "# Create a barplot of the  variable - web_browser\nfig, (ax0, ax1) = plt.subplots(nrows=1, ncols=2, sharey=False, figsize=(12, 5))\nsns.histplot(df['primary_use'], stat='count',  bins = 10,  ax=ax0).set(title = 'The distribution of the variable \"primary_use\"')\nax0.xaxis.set_tick_params(rotation=45)\nax0.grid(axis='y')\nsns.histplot(data =df, x='primary_use', hue=\"owned\", stat='count',  ax=ax1).set(title = 'The distribution between \\n ownership and \"primary_use\"')\nax1.xaxis.set_tick_params(rotation=45)\nax1.grid(axis='y')\nfig.suptitle('Graph 10')\nplt.show()"
   },
   "outputs": [
    {
     "data": {
      "image/png": "[encoded data removed]",
      "text/plain": [
       "<Figure size 864x360 with 2 Axes>"
      ]
     },
     "metadata": {
      "needs_background": "light"
     },
     "output_type": "display_data"
    }
   ],
   "source": [
    "# Create a barplot of the  variable - web_browser\n",
    "fig, (ax0, ax1) = plt.subplots(nrows=1, ncols=2, sharey=False, figsize=(12, 5))\n",
    "sns.histplot(df['primary_use'], stat='count',  bins = 10,  ax=ax0).set(title = 'The distribution of the variable \"primary_use\"')\n",
    "ax0.xaxis.set_tick_params(rotation=45)\n",
    "ax0.grid(axis='y')\n",
    "sns.histplot(data =df, x='primary_use', hue=\"owned\", stat='count',  ax=ax1).set(title = 'The distribution between \\n ownership and \"primary_use\"')\n",
    "ax1.xaxis.set_tick_params(rotation=45)\n",
    "ax1.grid(axis='y')\n",
    "fig.suptitle('Graph 10')\n",
    "plt.show()"
   ]
  },
  {
   "cell_type": "markdown",
   "id": "964101c6-29d1-4c2d-82ec-5fcde6f14a29",
   "metadata": {},
   "source": [
    "# Analyze and Build Models"
   ]
  },
  {
   "cell_type": "markdown",
   "id": "66e07a44-f276-4516-87ce-e460d3f1a33a",
   "metadata": {},
   "source": [
    "## Preprocessing the data\n",
    "Predicting whether a review came from an owner or not is a **classification task** in machine learning. \n",
    "\n",
    " Before I proceed towards building a machine learning model I will do tow preprocessing steps: \n",
    "-  Convert the non-numeric data into numeric,  I will do this by using the get_dummies() method from pandas.\n",
    "-  Scale the feature values to a uniform range, I will do thnis by using MinMax-Scaler (rescales the data set such that all feature values are in the same range 0–1). "
   ]
  },
  {
   "cell_type": "code",
   "execution_count": 32,
   "id": "70e85b5c-ab95-412b-ae02-e0c3242a1fce",
   "metadata": {
    "executionTime": 52,
    "lastSuccessfullyExecutedCode": "# Import train_test_split function and Decision tree classifier\nfrom sklearn.model_selection import train_test_split\n\n# Create features\nfeatures = df.drop(columns = [\"owned\"], axis = 1)\n\n# Create labels\nlabels = df[\"owned\"].values\n\n# Split our data\nfeatures_train, features_test = train_test_split(features, test_size=0.25,  random_state = 43)\ny_train, y_test = train_test_split(labels, test_size=0.25, random_state = 43)\nprint(features_train.shape, features_test.shape, y_train.shape, y_test.shape)"
   },
   "outputs": [
    {
     "name": "stdout",
     "output_type": "stream",
     "text": [
      "(1125, 7) (375, 7) (1125,) (375,)\n"
     ]
    }
   ],
   "source": [
    "# Import train_test_split function and Decision tree classifier\n",
    "from sklearn.model_selection import train_test_split\n",
    "\n",
    "# Create features\n",
    "features = df.drop(columns = [\"owned\"], axis = 1)\n",
    "\n",
    "# Create labels\n",
    "labels = df[\"owned\"].values\n",
    "\n",
    "# Split our data\n",
    "features_train, features_test = train_test_split(features, test_size=0.25,  random_state = 43)\n",
    "y_train, y_test = train_test_split(labels, test_size=0.25, random_state = 43)\n",
    "print(features_train.shape, features_test.shape, y_train.shape, y_test.shape)"
   ]
  },
  {
   "cell_type": "code",
   "execution_count": 33,
   "id": "f74f0fcf-d53c-4602-b7a4-6430e2171c03",
   "metadata": {
    "executionTime": 56,
    "lastSuccessfullyExecutedCode": "# Convert the categorical features in the train and test sets independently\nfeatures_train = pd.get_dummies(features_train,  columns =['make_model', 'review_month', 'web_browser', 'primary_use'],  drop_first = True)\nfeatures_test = pd.get_dummies(features_test,  columns =['make_model', 'review_month', 'web_browser', 'primary_use'], drop_first = True)\n\n# Reindex the columns of the test set aligning with the train set\nfeatures_test = features_test.reindex(columns=features_train.columns, fill_value=0)\nprint({features_train.info()})\nprint({features_test.info()})"
   },
   "outputs": [
    {
     "name": "stdout",
     "output_type": "stream",
     "text": [
      "<class 'pandas.core.frame.DataFrame'>\n",
      "Int64Index: 1125 entries, 928 to 1344\n",
      "Data columns (total 26 columns):\n",
      " #   Column                    Non-Null Count  Dtype   \n",
      "---  ------                    --------------  -----   \n",
      " 0   reviewer_age              1125 non-null   int16   \n",
      " 1   value_for_money           1125 non-null   category\n",
      " 2   overall_rating            1125 non-null   float16 \n",
      " 3   make_model_Hoang-Keetra   1125 non-null   uint8   \n",
      " 4   make_model_Lunna-Eyden    1125 non-null   uint8   \n",
      " 5   make_model_Lunna-Keetra   1125 non-null   uint8   \n",
      " 6   make_model_Nielah-Eyden   1125 non-null   uint8   \n",
      " 7   make_model_Nielah-Keetra  1125 non-null   uint8   \n",
      " 8   review_month_Aug          1125 non-null   uint8   \n",
      " 9   review_month_Dec          1125 non-null   uint8   \n",
      " 10  review_month_Feb          1125 non-null   uint8   \n",
      " 11  review_month_Jan          1125 non-null   uint8   \n",
      " 12  review_month_Jul          1125 non-null   uint8   \n",
      " 13  review_month_Jun          1125 non-null   uint8   \n",
      " 14  review_month_Mar          1125 non-null   uint8   \n",
      " 15  review_month_May          1125 non-null   uint8   \n",
      " 16  review_month_Nov          1125 non-null   uint8   \n",
      " 17  review_month_Oct          1125 non-null   uint8   \n",
      " 18  review_month_Sep          1125 non-null   uint8   \n",
      " 19  web_browser_Chrome        1125 non-null   uint8   \n",
      " 20  web_browser_Firefox       1125 non-null   uint8   \n",
      " 21  web_browser_IE            1125 non-null   uint8   \n",
      " 22  web_browser_Opera         1125 non-null   uint8   \n",
      " 23  web_browser_Safari        1125 non-null   uint8   \n",
      " 24  web_browser_unknown       1125 non-null   uint8   \n",
      " 25  primary_use_Leisure       1125 non-null   uint8   \n",
      "dtypes: category(1), float16(1), int16(1), uint8(23)\n",
      "memory usage: 39.9 KB\n",
      "{None}\n",
      "<class 'pandas.core.frame.DataFrame'>\n",
      "Int64Index: 375 entries, 735 to 85\n",
      "Data columns (total 26 columns):\n",
      " #   Column                    Non-Null Count  Dtype   \n",
      "---  ------                    --------------  -----   \n",
      " 0   reviewer_age              375 non-null    int16   \n",
      " 1   value_for_money           375 non-null    category\n",
      " 2   overall_rating            375 non-null    float16 \n",
      " 3   make_model_Hoang-Keetra   375 non-null    uint8   \n",
      " 4   make_model_Lunna-Eyden    375 non-null    uint8   \n",
      " 5   make_model_Lunna-Keetra   375 non-null    uint8   \n",
      " 6   make_model_Nielah-Eyden   375 non-null    uint8   \n",
      " 7   make_model_Nielah-Keetra  375 non-null    uint8   \n",
      " 8   review_month_Aug          375 non-null    uint8   \n",
      " 9   review_month_Dec          375 non-null    uint8   \n",
      " 10  review_month_Feb          375 non-null    uint8   \n",
      " 11  review_month_Jan          375 non-null    uint8   \n",
      " 12  review_month_Jul          375 non-null    uint8   \n",
      " 13  review_month_Jun          375 non-null    uint8   \n",
      " 14  review_month_Mar          375 non-null    uint8   \n",
      " 15  review_month_May          375 non-null    uint8   \n",
      " 16  review_month_Nov          375 non-null    uint8   \n",
      " 17  review_month_Oct          375 non-null    uint8   \n",
      " 18  review_month_Sep          375 non-null    uint8   \n",
      " 19  web_browser_Chrome        375 non-null    uint8   \n",
      " 20  web_browser_Firefox       375 non-null    uint8   \n",
      " 21  web_browser_IE            375 non-null    uint8   \n",
      " 22  web_browser_Opera         375 non-null    uint8   \n",
      " 23  web_browser_Safari        375 non-null    uint8   \n",
      " 24  web_browser_unknown       375 non-null    uint8   \n",
      " 25  primary_use_Leisure       375 non-null    uint8   \n",
      "dtypes: category(1), float16(1), int16(1), uint8(23)\n",
      "memory usage: 13.6 KB\n",
      "{None}\n"
     ]
    }
   ],
   "source": [
    "# Convert the categorical features in the train and test sets independently\n",
    "features_train = pd.get_dummies(features_train,  columns =['make_model', 'review_month', 'web_browser', 'primary_use'],  drop_first = True)\n",
    "features_test = pd.get_dummies(features_test,  columns =['make_model', 'review_month', 'web_browser', 'primary_use'], drop_first = True)\n",
    "\n",
    "# Reindex the columns of the test set aligning with the train set\n",
    "features_test = features_test.reindex(columns=features_train.columns, fill_value=0)\n",
    "print({features_train.info()})\n",
    "print({features_test.info()})"
   ]
  },
  {
   "cell_type": "code",
   "execution_count": 34,
   "id": "918490a7-490f-43a7-9b6a-2782ec7d4b3b",
   "metadata": {
    "executionTime": 0,
    "lastSuccessfullyExecutedCode": "# change the order of the columns, putting the numerical futures first\nfeatures_train.columns = features_test.columns = ['reviewer_age', 'overall_rating', 'value_for_money', 'make_model_Hoang-Keetra',\n        'make_model_Lunna-Eyden', 'make_model_Lunna-Keetra', 'make_model_Nielah-Eyden', 'make_model_Nielah-Keetra',\n        'review_month_Aug', 'review_month_Dec','review_month_Feb', 'review_month_Jan', 'review_month_Jul',\n        'review_month_Jun', 'review_month_Mar', 'review_month_May', 'review_month_Nov', 'review_month_Oct', 'review_month_Sep',\n        'web_browser_Chrome', 'web_browser_Firefox', 'web_browser_IE', 'web_browser_Opera', 'web_browser_Safari',\n        'web_browser_unknown', 'primary_use_Leisure']"
   },
   "outputs": [],
   "source": [
    "# change the order of the columns, putting the numerical futures first\n",
    "features_train.columns = features_test.columns = ['reviewer_age', 'overall_rating', 'value_for_money', 'make_model_Hoang-Keetra',\n",
    "        'make_model_Lunna-Eyden', 'make_model_Lunna-Keetra', 'make_model_Nielah-Eyden', 'make_model_Nielah-Keetra',\n",
    "        'review_month_Aug', 'review_month_Dec','review_month_Feb', 'review_month_Jan', 'review_month_Jul',\n",
    "        'review_month_Jun', 'review_month_Mar', 'review_month_May', 'review_month_Nov', 'review_month_Oct', 'review_month_Sep',\n",
    "        'web_browser_Chrome', 'web_browser_Firefox', 'web_browser_IE', 'web_browser_Opera', 'web_browser_Safari',\n",
    "        'web_browser_unknown', 'primary_use_Leisure']"
   ]
  },
  {
   "cell_type": "code",
   "execution_count": 35,
   "id": "76bbe704-5593-4c73-979a-bc95c21235a6",
   "metadata": {
    "executionTime": 289,
    "lastSuccessfullyExecutedCode": " # Import MinMaxScaler\nfrom sklearn.preprocessing import MinMaxScaler\n\n# Instantiate MinMaxScaler and use it to rescale X_train and X_test\nscaler = MinMaxScaler(feature_range=(0, 1))\nfeatures_train[['reviewer_age', 'overall_rating']] = scaler.fit_transform(features_train[['reviewer_age', 'overall_rating']])\nfeatures_test[['reviewer_age', 'overall_rating']] = scaler.transform(features_test[['reviewer_age', 'overall_rating']])\ndisplay(features_train.describe())\nfeatures_test.describe()"
   },
   "outputs": [
    {
     "data": {
      "text/html": [
       "<div>\n",
       "<style scoped>\n",
       "    .dataframe tbody tr th:only-of-type {\n",
       "        vertical-align: middle;\n",
       "    }\n",
       "\n",
       "    .dataframe tbody tr th {\n",
       "        vertical-align: top;\n",
       "    }\n",
       "\n",
       "    .dataframe thead th {\n",
       "        text-align: right;\n",
       "    }\n",
       "</style>\n",
       "<table border=\"1\" class=\"dataframe\">\n",
       "  <thead>\n",
       "    <tr style=\"text-align: right;\">\n",
       "      <th></th>\n",
       "      <th>reviewer_age</th>\n",
       "      <th>overall_rating</th>\n",
       "      <th>value_for_money</th>\n",
       "      <th>make_model_Hoang-Keetra</th>\n",
       "      <th>make_model_Lunna-Eyden</th>\n",
       "      <th>make_model_Lunna-Keetra</th>\n",
       "      <th>make_model_Nielah-Eyden</th>\n",
       "      <th>make_model_Nielah-Keetra</th>\n",
       "      <th>review_month_Aug</th>\n",
       "      <th>review_month_Dec</th>\n",
       "      <th>...</th>\n",
       "      <th>review_month_Nov</th>\n",
       "      <th>review_month_Oct</th>\n",
       "      <th>review_month_Sep</th>\n",
       "      <th>web_browser_Chrome</th>\n",
       "      <th>web_browser_Firefox</th>\n",
       "      <th>web_browser_IE</th>\n",
       "      <th>web_browser_Opera</th>\n",
       "      <th>web_browser_Safari</th>\n",
       "      <th>web_browser_unknown</th>\n",
       "      <th>primary_use_Leisure</th>\n",
       "    </tr>\n",
       "  </thead>\n",
       "  <tbody>\n",
       "    <tr>\n",
       "      <th>count</th>\n",
       "      <td>1125.000000</td>\n",
       "      <td>1125.000000</td>\n",
       "      <td>1125.000000</td>\n",
       "      <td>1125.000000</td>\n",
       "      <td>1125.000000</td>\n",
       "      <td>1125.000000</td>\n",
       "      <td>1125.000000</td>\n",
       "      <td>1125.000000</td>\n",
       "      <td>1125.000000</td>\n",
       "      <td>1125.000000</td>\n",
       "      <td>...</td>\n",
       "      <td>1125.000000</td>\n",
       "      <td>1125.000000</td>\n",
       "      <td>1125.000000</td>\n",
       "      <td>1125.000000</td>\n",
       "      <td>1125.000000</td>\n",
       "      <td>1125.000000</td>\n",
       "      <td>1125.000000</td>\n",
       "      <td>1125.000000</td>\n",
       "      <td>1125.000000</td>\n",
       "      <td>1125.000000</td>\n",
       "    </tr>\n",
       "    <tr>\n",
       "      <th>mean</th>\n",
       "      <td>0.488758</td>\n",
       "      <td>0.442667</td>\n",
       "      <td>17.156250</td>\n",
       "      <td>0.088000</td>\n",
       "      <td>0.209778</td>\n",
       "      <td>0.116444</td>\n",
       "      <td>0.435556</td>\n",
       "      <td>0.066667</td>\n",
       "      <td>0.080000</td>\n",
       "      <td>0.064889</td>\n",
       "      <td>...</td>\n",
       "      <td>0.085333</td>\n",
       "      <td>0.086222</td>\n",
       "      <td>0.092444</td>\n",
       "      <td>0.476444</td>\n",
       "      <td>0.150222</td>\n",
       "      <td>0.156444</td>\n",
       "      <td>0.015111</td>\n",
       "      <td>0.090667</td>\n",
       "      <td>0.095111</td>\n",
       "      <td>0.277333</td>\n",
       "    </tr>\n",
       "    <tr>\n",
       "      <th>std</th>\n",
       "      <td>0.290441</td>\n",
       "      <td>0.163698</td>\n",
       "      <td>2.417969</td>\n",
       "      <td>0.283421</td>\n",
       "      <td>0.407331</td>\n",
       "      <td>0.320900</td>\n",
       "      <td>0.496050</td>\n",
       "      <td>0.249555</td>\n",
       "      <td>0.271414</td>\n",
       "      <td>0.246439</td>\n",
       "      <td>...</td>\n",
       "      <td>0.279501</td>\n",
       "      <td>0.280817</td>\n",
       "      <td>0.289781</td>\n",
       "      <td>0.499667</td>\n",
       "      <td>0.357448</td>\n",
       "      <td>0.363438</td>\n",
       "      <td>0.122049</td>\n",
       "      <td>0.287262</td>\n",
       "      <td>0.293499</td>\n",
       "      <td>0.447882</td>\n",
       "    </tr>\n",
       "    <tr>\n",
       "      <th>min</th>\n",
       "      <td>0.000000</td>\n",
       "      <td>0.000000</td>\n",
       "      <td>11.687500</td>\n",
       "      <td>0.000000</td>\n",
       "      <td>0.000000</td>\n",
       "      <td>0.000000</td>\n",
       "      <td>0.000000</td>\n",
       "      <td>0.000000</td>\n",
       "      <td>0.000000</td>\n",
       "      <td>0.000000</td>\n",
       "      <td>...</td>\n",
       "      <td>0.000000</td>\n",
       "      <td>0.000000</td>\n",
       "      <td>0.000000</td>\n",
       "      <td>0.000000</td>\n",
       "      <td>0.000000</td>\n",
       "      <td>0.000000</td>\n",
       "      <td>0.000000</td>\n",
       "      <td>0.000000</td>\n",
       "      <td>0.000000</td>\n",
       "      <td>0.000000</td>\n",
       "    </tr>\n",
       "    <tr>\n",
       "      <th>25%</th>\n",
       "      <td>0.235294</td>\n",
       "      <td>0.333333</td>\n",
       "      <td>15.382812</td>\n",
       "      <td>0.000000</td>\n",
       "      <td>0.000000</td>\n",
       "      <td>0.000000</td>\n",
       "      <td>0.000000</td>\n",
       "      <td>0.000000</td>\n",
       "      <td>0.000000</td>\n",
       "      <td>0.000000</td>\n",
       "      <td>...</td>\n",
       "      <td>0.000000</td>\n",
       "      <td>0.000000</td>\n",
       "      <td>0.000000</td>\n",
       "      <td>0.000000</td>\n",
       "      <td>0.000000</td>\n",
       "      <td>0.000000</td>\n",
       "      <td>0.000000</td>\n",
       "      <td>0.000000</td>\n",
       "      <td>0.000000</td>\n",
       "      <td>0.000000</td>\n",
       "    </tr>\n",
       "    <tr>\n",
       "      <th>50%</th>\n",
       "      <td>0.470588</td>\n",
       "      <td>0.444444</td>\n",
       "      <td>18.250000</td>\n",
       "      <td>0.000000</td>\n",
       "      <td>0.000000</td>\n",
       "      <td>0.000000</td>\n",
       "      <td>0.000000</td>\n",
       "      <td>0.000000</td>\n",
       "      <td>0.000000</td>\n",
       "      <td>0.000000</td>\n",
       "      <td>...</td>\n",
       "      <td>0.000000</td>\n",
       "      <td>0.000000</td>\n",
       "      <td>0.000000</td>\n",
       "      <td>0.000000</td>\n",
       "      <td>0.000000</td>\n",
       "      <td>0.000000</td>\n",
       "      <td>0.000000</td>\n",
       "      <td>0.000000</td>\n",
       "      <td>0.000000</td>\n",
       "      <td>0.000000</td>\n",
       "    </tr>\n",
       "    <tr>\n",
       "      <th>75%</th>\n",
       "      <td>0.735294</td>\n",
       "      <td>0.555556</td>\n",
       "      <td>18.812500</td>\n",
       "      <td>0.000000</td>\n",
       "      <td>0.000000</td>\n",
       "      <td>0.000000</td>\n",
       "      <td>1.000000</td>\n",
       "      <td>0.000000</td>\n",
       "      <td>0.000000</td>\n",
       "      <td>0.000000</td>\n",
       "      <td>...</td>\n",
       "      <td>0.000000</td>\n",
       "      <td>0.000000</td>\n",
       "      <td>0.000000</td>\n",
       "      <td>1.000000</td>\n",
       "      <td>0.000000</td>\n",
       "      <td>0.000000</td>\n",
       "      <td>0.000000</td>\n",
       "      <td>0.000000</td>\n",
       "      <td>0.000000</td>\n",
       "      <td>1.000000</td>\n",
       "    </tr>\n",
       "    <tr>\n",
       "      <th>max</th>\n",
       "      <td>1.000000</td>\n",
       "      <td>1.000000</td>\n",
       "      <td>22.593750</td>\n",
       "      <td>1.000000</td>\n",
       "      <td>1.000000</td>\n",
       "      <td>1.000000</td>\n",
       "      <td>1.000000</td>\n",
       "      <td>1.000000</td>\n",
       "      <td>1.000000</td>\n",
       "      <td>1.000000</td>\n",
       "      <td>...</td>\n",
       "      <td>1.000000</td>\n",
       "      <td>1.000000</td>\n",
       "      <td>1.000000</td>\n",
       "      <td>1.000000</td>\n",
       "      <td>1.000000</td>\n",
       "      <td>1.000000</td>\n",
       "      <td>1.000000</td>\n",
       "      <td>1.000000</td>\n",
       "      <td>1.000000</td>\n",
       "      <td>1.000000</td>\n",
       "    </tr>\n",
       "  </tbody>\n",
       "</table>\n",
       "<p>8 rows × 26 columns</p>\n",
       "</div>"
      ],
      "text/plain": [
       "       reviewer_age  overall_rating  value_for_money  make_model_Hoang-Keetra  \\\n",
       "count   1125.000000     1125.000000      1125.000000              1125.000000   \n",
       "mean       0.488758        0.442667        17.156250                 0.088000   \n",
       "std        0.290441        0.163698         2.417969                 0.283421   \n",
       "min        0.000000        0.000000        11.687500                 0.000000   \n",
       "25%        0.235294        0.333333        15.382812                 0.000000   \n",
       "50%        0.470588        0.444444        18.250000                 0.000000   \n",
       "75%        0.735294        0.555556        18.812500                 0.000000   \n",
       "max        1.000000        1.000000        22.593750                 1.000000   \n",
       "\n",
       "       make_model_Lunna-Eyden  make_model_Lunna-Keetra  \\\n",
       "count             1125.000000              1125.000000   \n",
       "mean                 0.209778                 0.116444   \n",
       "std                  0.407331                 0.320900   \n",
       "min                  0.000000                 0.000000   \n",
       "25%                  0.000000                 0.000000   \n",
       "50%                  0.000000                 0.000000   \n",
       "75%                  0.000000                 0.000000   \n",
       "max                  1.000000                 1.000000   \n",
       "\n",
       "       make_model_Nielah-Eyden  make_model_Nielah-Keetra  review_month_Aug  \\\n",
       "count              1125.000000               1125.000000       1125.000000   \n",
       "mean                  0.435556                  0.066667          0.080000   \n",
       "std                   0.496050                  0.249555          0.271414   \n",
       "min                   0.000000                  0.000000          0.000000   \n",
       "25%                   0.000000                  0.000000          0.000000   \n",
       "50%                   0.000000                  0.000000          0.000000   \n",
       "75%                   1.000000                  0.000000          0.000000   \n",
       "max                   1.000000                  1.000000          1.000000   \n",
       "\n",
       "       review_month_Dec  ...  review_month_Nov  review_month_Oct  \\\n",
       "count       1125.000000  ...       1125.000000       1125.000000   \n",
       "mean           0.064889  ...          0.085333          0.086222   \n",
       "std            0.246439  ...          0.279501          0.280817   \n",
       "min            0.000000  ...          0.000000          0.000000   \n",
       "25%            0.000000  ...          0.000000          0.000000   \n",
       "50%            0.000000  ...          0.000000          0.000000   \n",
       "75%            0.000000  ...          0.000000          0.000000   \n",
       "max            1.000000  ...          1.000000          1.000000   \n",
       "\n",
       "       review_month_Sep  web_browser_Chrome  web_browser_Firefox  \\\n",
       "count       1125.000000         1125.000000          1125.000000   \n",
       "mean           0.092444            0.476444             0.150222   \n",
       "std            0.289781            0.499667             0.357448   \n",
       "min            0.000000            0.000000             0.000000   \n",
       "25%            0.000000            0.000000             0.000000   \n",
       "50%            0.000000            0.000000             0.000000   \n",
       "75%            0.000000            1.000000             0.000000   \n",
       "max            1.000000            1.000000             1.000000   \n",
       "\n",
       "       web_browser_IE  web_browser_Opera  web_browser_Safari  \\\n",
       "count     1125.000000        1125.000000         1125.000000   \n",
       "mean         0.156444           0.015111            0.090667   \n",
       "std          0.363438           0.122049            0.287262   \n",
       "min          0.000000           0.000000            0.000000   \n",
       "25%          0.000000           0.000000            0.000000   \n",
       "50%          0.000000           0.000000            0.000000   \n",
       "75%          0.000000           0.000000            0.000000   \n",
       "max          1.000000           1.000000            1.000000   \n",
       "\n",
       "       web_browser_unknown  primary_use_Leisure  \n",
       "count          1125.000000          1125.000000  \n",
       "mean              0.095111             0.277333  \n",
       "std               0.293499             0.447882  \n",
       "min               0.000000             0.000000  \n",
       "25%               0.000000             0.000000  \n",
       "50%               0.000000             0.000000  \n",
       "75%               0.000000             1.000000  \n",
       "max               1.000000             1.000000  \n",
       "\n",
       "[8 rows x 26 columns]"
      ]
     },
     "metadata": {},
     "output_type": "display_data"
    },
    {
     "data": {
      "text/html": [
       "<div>\n",
       "<style scoped>\n",
       "    .dataframe tbody tr th:only-of-type {\n",
       "        vertical-align: middle;\n",
       "    }\n",
       "\n",
       "    .dataframe tbody tr th {\n",
       "        vertical-align: top;\n",
       "    }\n",
       "\n",
       "    .dataframe thead th {\n",
       "        text-align: right;\n",
       "    }\n",
       "</style>\n",
       "<table border=\"1\" class=\"dataframe\">\n",
       "  <thead>\n",
       "    <tr style=\"text-align: right;\">\n",
       "      <th></th>\n",
       "      <th>reviewer_age</th>\n",
       "      <th>overall_rating</th>\n",
       "      <th>value_for_money</th>\n",
       "      <th>make_model_Hoang-Keetra</th>\n",
       "      <th>make_model_Lunna-Eyden</th>\n",
       "      <th>make_model_Lunna-Keetra</th>\n",
       "      <th>make_model_Nielah-Eyden</th>\n",
       "      <th>make_model_Nielah-Keetra</th>\n",
       "      <th>review_month_Aug</th>\n",
       "      <th>review_month_Dec</th>\n",
       "      <th>...</th>\n",
       "      <th>review_month_Nov</th>\n",
       "      <th>review_month_Oct</th>\n",
       "      <th>review_month_Sep</th>\n",
       "      <th>web_browser_Chrome</th>\n",
       "      <th>web_browser_Firefox</th>\n",
       "      <th>web_browser_IE</th>\n",
       "      <th>web_browser_Opera</th>\n",
       "      <th>web_browser_Safari</th>\n",
       "      <th>web_browser_unknown</th>\n",
       "      <th>primary_use_Leisure</th>\n",
       "    </tr>\n",
       "  </thead>\n",
       "  <tbody>\n",
       "    <tr>\n",
       "      <th>count</th>\n",
       "      <td>375.000000</td>\n",
       "      <td>375.000000</td>\n",
       "      <td>375.000000</td>\n",
       "      <td>375.000000</td>\n",
       "      <td>375.000000</td>\n",
       "      <td>375.000000</td>\n",
       "      <td>375.000000</td>\n",
       "      <td>375.000000</td>\n",
       "      <td>375.00000</td>\n",
       "      <td>375.000000</td>\n",
       "      <td>...</td>\n",
       "      <td>375.000000</td>\n",
       "      <td>375.000000</td>\n",
       "      <td>375.000000</td>\n",
       "      <td>375.000000</td>\n",
       "      <td>375.000000</td>\n",
       "      <td>375.000000</td>\n",
       "      <td>375.000000</td>\n",
       "      <td>375.000000</td>\n",
       "      <td>375.000000</td>\n",
       "      <td>375.000000</td>\n",
       "    </tr>\n",
       "    <tr>\n",
       "      <th>mean</th>\n",
       "      <td>0.481490</td>\n",
       "      <td>0.439704</td>\n",
       "      <td>17.093750</td>\n",
       "      <td>0.066667</td>\n",
       "      <td>0.248000</td>\n",
       "      <td>0.125333</td>\n",
       "      <td>0.432000</td>\n",
       "      <td>0.048000</td>\n",
       "      <td>0.06400</td>\n",
       "      <td>0.117333</td>\n",
       "      <td>...</td>\n",
       "      <td>0.080000</td>\n",
       "      <td>0.074667</td>\n",
       "      <td>0.098667</td>\n",
       "      <td>0.432000</td>\n",
       "      <td>0.170667</td>\n",
       "      <td>0.168000</td>\n",
       "      <td>0.018667</td>\n",
       "      <td>0.082667</td>\n",
       "      <td>0.114667</td>\n",
       "      <td>0.248000</td>\n",
       "    </tr>\n",
       "    <tr>\n",
       "      <th>std</th>\n",
       "      <td>0.290969</td>\n",
       "      <td>0.169594</td>\n",
       "      <td>2.529297</td>\n",
       "      <td>0.249777</td>\n",
       "      <td>0.432429</td>\n",
       "      <td>0.331539</td>\n",
       "      <td>0.496016</td>\n",
       "      <td>0.214052</td>\n",
       "      <td>0.24508</td>\n",
       "      <td>0.322247</td>\n",
       "      <td>...</td>\n",
       "      <td>0.271656</td>\n",
       "      <td>0.263204</td>\n",
       "      <td>0.298612</td>\n",
       "      <td>0.496016</td>\n",
       "      <td>0.376720</td>\n",
       "      <td>0.374366</td>\n",
       "      <td>0.135526</td>\n",
       "      <td>0.275746</td>\n",
       "      <td>0.319045</td>\n",
       "      <td>0.432429</td>\n",
       "    </tr>\n",
       "    <tr>\n",
       "      <th>min</th>\n",
       "      <td>0.000000</td>\n",
       "      <td>0.000000</td>\n",
       "      <td>11.750000</td>\n",
       "      <td>0.000000</td>\n",
       "      <td>0.000000</td>\n",
       "      <td>0.000000</td>\n",
       "      <td>0.000000</td>\n",
       "      <td>0.000000</td>\n",
       "      <td>0.00000</td>\n",
       "      <td>0.000000</td>\n",
       "      <td>...</td>\n",
       "      <td>0.000000</td>\n",
       "      <td>0.000000</td>\n",
       "      <td>0.000000</td>\n",
       "      <td>0.000000</td>\n",
       "      <td>0.000000</td>\n",
       "      <td>0.000000</td>\n",
       "      <td>0.000000</td>\n",
       "      <td>0.000000</td>\n",
       "      <td>0.000000</td>\n",
       "      <td>0.000000</td>\n",
       "    </tr>\n",
       "    <tr>\n",
       "      <th>25%</th>\n",
       "      <td>0.235294</td>\n",
       "      <td>0.333333</td>\n",
       "      <td>15.222656</td>\n",
       "      <td>0.000000</td>\n",
       "      <td>0.000000</td>\n",
       "      <td>0.000000</td>\n",
       "      <td>0.000000</td>\n",
       "      <td>0.000000</td>\n",
       "      <td>0.00000</td>\n",
       "      <td>0.000000</td>\n",
       "      <td>...</td>\n",
       "      <td>0.000000</td>\n",
       "      <td>0.000000</td>\n",
       "      <td>0.000000</td>\n",
       "      <td>0.000000</td>\n",
       "      <td>0.000000</td>\n",
       "      <td>0.000000</td>\n",
       "      <td>0.000000</td>\n",
       "      <td>0.000000</td>\n",
       "      <td>0.000000</td>\n",
       "      <td>0.000000</td>\n",
       "    </tr>\n",
       "    <tr>\n",
       "      <th>50%</th>\n",
       "      <td>0.470588</td>\n",
       "      <td>0.444444</td>\n",
       "      <td>18.203125</td>\n",
       "      <td>0.000000</td>\n",
       "      <td>0.000000</td>\n",
       "      <td>0.000000</td>\n",
       "      <td>0.000000</td>\n",
       "      <td>0.000000</td>\n",
       "      <td>0.00000</td>\n",
       "      <td>0.000000</td>\n",
       "      <td>...</td>\n",
       "      <td>0.000000</td>\n",
       "      <td>0.000000</td>\n",
       "      <td>0.000000</td>\n",
       "      <td>0.000000</td>\n",
       "      <td>0.000000</td>\n",
       "      <td>0.000000</td>\n",
       "      <td>0.000000</td>\n",
       "      <td>0.000000</td>\n",
       "      <td>0.000000</td>\n",
       "      <td>0.000000</td>\n",
       "    </tr>\n",
       "    <tr>\n",
       "      <th>75%</th>\n",
       "      <td>0.735294</td>\n",
       "      <td>0.555556</td>\n",
       "      <td>18.945312</td>\n",
       "      <td>0.000000</td>\n",
       "      <td>0.000000</td>\n",
       "      <td>0.000000</td>\n",
       "      <td>1.000000</td>\n",
       "      <td>0.000000</td>\n",
       "      <td>0.00000</td>\n",
       "      <td>0.000000</td>\n",
       "      <td>...</td>\n",
       "      <td>0.000000</td>\n",
       "      <td>0.000000</td>\n",
       "      <td>0.000000</td>\n",
       "      <td>1.000000</td>\n",
       "      <td>0.000000</td>\n",
       "      <td>0.000000</td>\n",
       "      <td>0.000000</td>\n",
       "      <td>0.000000</td>\n",
       "      <td>0.000000</td>\n",
       "      <td>0.000000</td>\n",
       "    </tr>\n",
       "    <tr>\n",
       "      <th>max</th>\n",
       "      <td>1.000000</td>\n",
       "      <td>0.888889</td>\n",
       "      <td>22.765625</td>\n",
       "      <td>1.000000</td>\n",
       "      <td>1.000000</td>\n",
       "      <td>1.000000</td>\n",
       "      <td>1.000000</td>\n",
       "      <td>1.000000</td>\n",
       "      <td>1.00000</td>\n",
       "      <td>1.000000</td>\n",
       "      <td>...</td>\n",
       "      <td>1.000000</td>\n",
       "      <td>1.000000</td>\n",
       "      <td>1.000000</td>\n",
       "      <td>1.000000</td>\n",
       "      <td>1.000000</td>\n",
       "      <td>1.000000</td>\n",
       "      <td>1.000000</td>\n",
       "      <td>1.000000</td>\n",
       "      <td>1.000000</td>\n",
       "      <td>1.000000</td>\n",
       "    </tr>\n",
       "  </tbody>\n",
       "</table>\n",
       "<p>8 rows × 26 columns</p>\n",
       "</div>"
      ],
      "text/plain": [
       "       reviewer_age  overall_rating  value_for_money  make_model_Hoang-Keetra  \\\n",
       "count    375.000000      375.000000       375.000000               375.000000   \n",
       "mean       0.481490        0.439704        17.093750                 0.066667   \n",
       "std        0.290969        0.169594         2.529297                 0.249777   \n",
       "min        0.000000        0.000000        11.750000                 0.000000   \n",
       "25%        0.235294        0.333333        15.222656                 0.000000   \n",
       "50%        0.470588        0.444444        18.203125                 0.000000   \n",
       "75%        0.735294        0.555556        18.945312                 0.000000   \n",
       "max        1.000000        0.888889        22.765625                 1.000000   \n",
       "\n",
       "       make_model_Lunna-Eyden  make_model_Lunna-Keetra  \\\n",
       "count              375.000000               375.000000   \n",
       "mean                 0.248000                 0.125333   \n",
       "std                  0.432429                 0.331539   \n",
       "min                  0.000000                 0.000000   \n",
       "25%                  0.000000                 0.000000   \n",
       "50%                  0.000000                 0.000000   \n",
       "75%                  0.000000                 0.000000   \n",
       "max                  1.000000                 1.000000   \n",
       "\n",
       "       make_model_Nielah-Eyden  make_model_Nielah-Keetra  review_month_Aug  \\\n",
       "count               375.000000                375.000000         375.00000   \n",
       "mean                  0.432000                  0.048000           0.06400   \n",
       "std                   0.496016                  0.214052           0.24508   \n",
       "min                   0.000000                  0.000000           0.00000   \n",
       "25%                   0.000000                  0.000000           0.00000   \n",
       "50%                   0.000000                  0.000000           0.00000   \n",
       "75%                   1.000000                  0.000000           0.00000   \n",
       "max                   1.000000                  1.000000           1.00000   \n",
       "\n",
       "       review_month_Dec  ...  review_month_Nov  review_month_Oct  \\\n",
       "count        375.000000  ...        375.000000        375.000000   \n",
       "mean           0.117333  ...          0.080000          0.074667   \n",
       "std            0.322247  ...          0.271656          0.263204   \n",
       "min            0.000000  ...          0.000000          0.000000   \n",
       "25%            0.000000  ...          0.000000          0.000000   \n",
       "50%            0.000000  ...          0.000000          0.000000   \n",
       "75%            0.000000  ...          0.000000          0.000000   \n",
       "max            1.000000  ...          1.000000          1.000000   \n",
       "\n",
       "       review_month_Sep  web_browser_Chrome  web_browser_Firefox  \\\n",
       "count        375.000000          375.000000           375.000000   \n",
       "mean           0.098667            0.432000             0.170667   \n",
       "std            0.298612            0.496016             0.376720   \n",
       "min            0.000000            0.000000             0.000000   \n",
       "25%            0.000000            0.000000             0.000000   \n",
       "50%            0.000000            0.000000             0.000000   \n",
       "75%            0.000000            1.000000             0.000000   \n",
       "max            1.000000            1.000000             1.000000   \n",
       "\n",
       "       web_browser_IE  web_browser_Opera  web_browser_Safari  \\\n",
       "count      375.000000         375.000000          375.000000   \n",
       "mean         0.168000           0.018667            0.082667   \n",
       "std          0.374366           0.135526            0.275746   \n",
       "min          0.000000           0.000000            0.000000   \n",
       "25%          0.000000           0.000000            0.000000   \n",
       "50%          0.000000           0.000000            0.000000   \n",
       "75%          0.000000           0.000000            0.000000   \n",
       "max          1.000000           1.000000            1.000000   \n",
       "\n",
       "       web_browser_unknown  primary_use_Leisure  \n",
       "count           375.000000           375.000000  \n",
       "mean              0.114667             0.248000  \n",
       "std               0.319045             0.432429  \n",
       "min               0.000000             0.000000  \n",
       "25%               0.000000             0.000000  \n",
       "50%               0.000000             0.000000  \n",
       "75%               0.000000             0.000000  \n",
       "max               1.000000             1.000000  \n",
       "\n",
       "[8 rows x 26 columns]"
      ]
     },
     "execution_count": 35,
     "metadata": {},
     "output_type": "execute_result"
    }
   ],
   "source": [
    " # Import MinMaxScaler\n",
    "from sklearn.preprocessing import MinMaxScaler\n",
    "\n",
    "# Instantiate MinMaxScaler and use it to rescale X_train and X_test\n",
    "scaler = MinMaxScaler(feature_range=(0, 1))\n",
    "features_train[['reviewer_age', 'overall_rating']] = scaler.fit_transform(features_train[['reviewer_age', 'overall_rating']])\n",
    "features_test[['reviewer_age', 'overall_rating']] = scaler.transform(features_test[['reviewer_age', 'overall_rating']])\n",
    "display(features_train.describe())\n",
    "features_test.describe()"
   ]
  },
  {
   "cell_type": "markdown",
   "id": "39136627-12cf-4564-bbc7-cb48513c3e18",
   "metadata": {},
   "source": [
    "## Feature Selection\n",
    "I will  get feature importance using forward feature selection (or sequential forward feature selection — SFS), this is an iterative method in which we start by evaluating all features individually, and then select the one that results in the best performance.\n",
    "In the second step, it tests all possible combinations of the selected feature with the remaining features and retains the pair that produces the best algorithmic performance. And the loop continues by adding one feature at a time in each iteration until the pre-set criterion is reached."
   ]
  },
  {
   "cell_type": "code",
   "execution_count": 36,
   "id": "b80b0724-0316-4d16-9126-4bace94c3c6e",
   "metadata": {
    "executionTime": 133368,
    "lastSuccessfullyExecutedCode": "from mlxtend.feature_selection import SequentialFeatureSelector\nfrom sklearn.ensemble import RandomForestClassifier\nfrom sklearn.model_selection import StratifiedKFold\n\n# create the model with which we want to evaluate our features\nmodel = RandomForestClassifier(n_estimators=100, criterion=\"entropy\", random_state=43)\n\n# create the SequentialFeatureSelector object\nsfs = SequentialFeatureSelector(model, \n                 k_features=20, \n                 forward=True, \n                 floating=False,\n                 verbose=0,               \n                 scoring='f1_macro',\n                 cv=5,\n                 n_jobs=-1)\n\n# fit the object to the training data\nsfs = sfs.fit(features_train, y_train)\nselected_features = features_train.columns[list(sfs.k_feature_idx_)]\nprint(selected_features)"
   },
   "outputs": [
    {
     "name": "stdout",
     "output_type": "stream",
     "text": [
      "Index(['reviewer_age', 'overall_rating', 'value_for_money',\n",
      "       'make_model_Lunna-Keetra', 'make_model_Nielah-Eyden',\n",
      "       'review_month_Aug', 'review_month_Dec', 'review_month_Feb',\n",
      "       'review_month_Jan', 'review_month_Jul', 'review_month_Jun',\n",
      "       'review_month_Mar', 'review_month_May', 'review_month_Nov',\n",
      "       'review_month_Oct', 'web_browser_Firefox', 'web_browser_IE',\n",
      "       'web_browser_Opera', 'web_browser_unknown', 'primary_use_Leisure'],\n",
      "      dtype='object')\n"
     ]
    }
   ],
   "source": [
    "from mlxtend.feature_selection import SequentialFeatureSelector\n",
    "from sklearn.ensemble import RandomForestClassifier\n",
    "from sklearn.model_selection import StratifiedKFold\n",
    "\n",
    "# create the model with which we want to evaluate our features\n",
    "model = RandomForestClassifier(n_estimators=100, criterion=\"entropy\", random_state=43)\n",
    "\n",
    "# create the SequentialFeatureSelector object\n",
    "sfs = SequentialFeatureSelector(model, \n",
    "                 k_features=20, \n",
    "                 forward=True, \n",
    "                 floating=False,\n",
    "                 verbose=0,               \n",
    "                 scoring='f1_macro',\n",
    "                 cv=5,\n",
    "                 n_jobs=-1)\n",
    "\n",
    "# fit the object to the training data\n",
    "sfs = sfs.fit(features_train, y_train)\n",
    "selected_features = features_train.columns[list(sfs.k_feature_idx_)]\n",
    "print(selected_features)"
   ]
  },
  {
   "cell_type": "code",
   "execution_count": 37,
   "id": "73b454ef-518c-4bd7-971c-f5727062cd2d",
   "metadata": {
    "executionTime": 47,
    "lastSuccessfullyExecutedCode": "# Segregate features and labels into separate variables\nX_train, X_test  = features_train[selected_features].values, features_test[selected_features].values\nX_train.shape, X_test.shape, y_train.shape, y_test.shape"
   },
   "outputs": [
    {
     "data": {
      "text/plain": [
       "((1125, 20), (375, 20), (1125,), (375,))"
      ]
     },
     "execution_count": 37,
     "metadata": {},
     "output_type": "execute_result"
    }
   ],
   "source": [
    "# Segregate features and labels into separate variables\n",
    "X_train, X_test  = features_train[selected_features].values, features_test[selected_features].values\n",
    "X_train.shape, X_test.shape, y_train.shape, y_test.shape"
   ]
  },
  {
   "cell_type": "markdown",
   "id": "8b20fa2e-da87-4cf4-9591-157a0837891e",
   "metadata": {},
   "source": [
    "## Baseline Model - Logistic Regression"
   ]
  },
  {
   "cell_type": "code",
   "execution_count": 38,
   "id": "6f57fcc0-01f4-4867-8c50-ef681bae2a66",
   "metadata": {
    "executionTime": 74,
    "lastSuccessfullyExecutedCode": "# Import LogisticRegression\nfrom sklearn.linear_model import LogisticRegression\n\n# Train our logistic regression and predict labels for the test set\nlogreg = LogisticRegression(C=5, max_iter=1000, random_state=43)\nlogreg.fit(X_train, y_train)\npred_logreg = logreg.predict(X_test)"
   },
   "outputs": [],
   "source": [
    "# Import LogisticRegression\n",
    "from sklearn.linear_model import LogisticRegression\n",
    "\n",
    "# Train our logistic regression and predict labels for the test set\n",
    "logreg = LogisticRegression(C=5, max_iter=1000, random_state=43)\n",
    "logreg.fit(X_train, y_train)\n",
    "pred_logreg = logreg.predict(X_test)"
   ]
  },
  {
   "cell_type": "markdown",
   "id": "b7f0dcc4-98c7-43fe-8ee2-629aac60c421",
   "metadata": {},
   "source": [
    "## Comparision Model - Gradient Boosting Classifier"
   ]
  },
  {
   "cell_type": "code",
   "execution_count": 39,
   "id": "bcdc652c-5036-4e93-bcb0-ace9fbc36379",
   "metadata": {
    "executionTime": 199,
    "lastSuccessfullyExecutedCode": "# Import Gradient Boosting Classifier\nfrom sklearn.ensemble import GradientBoostingClassifier\n\n# Train our Gradient Boosting Classifier\ngbc = GradientBoostingClassifier(learning_rate=0.08, subsample=0.9, n_estimators=150, max_depth=2, random_state=43)\ngbc.fit(X_train, y_train)\n\n# Predict the labels for the test data\npred_gbc = gbc.predict(X_test)"
   },
   "outputs": [],
   "source": [
    "# Import Gradient Boosting Classifier\n",
    "from sklearn.ensemble import GradientBoostingClassifier\n",
    "\n",
    "# Train our Gradient Boosting Classifier\n",
    "gbc = GradientBoostingClassifier(learning_rate=0.08, subsample=0.9, n_estimators=150, max_depth=2, random_state=43)\n",
    "gbc.fit(X_train, y_train)\n",
    "\n",
    "# Predict the labels for the test data\n",
    "pred_gbc = gbc.predict(X_test)"
   ]
  },
  {
   "cell_type": "markdown",
   "id": "5cec4b2d-86fd-4ce3-9f9c-e9ab2ec0e436",
   "metadata": {},
   "source": [
    "I chose the **Logistic Regression** model as a baseline model because it is  easy to implement and interpret. It is less prone to overfitting than other more complex models, making it a good choice for datasets with a small number of samples. \n",
    "The comparison model I am choosing is the **Gradient Boosting Classifier** model because it is known for its high accuracy and predictive power, can handle well non-linear relationships between features and target variables and beacause can handle a wide range of data types, including numerical, categorical, and binary data."
   ]
  },
  {
   "cell_type": "markdown",
   "id": "9cd0de97-7ea6-4785-a57e-c101c237baed",
   "metadata": {},
   "source": [
    "## Evaluation of the two models"
   ]
  },
  {
   "cell_type": "code",
   "execution_count": 40,
   "id": "ea07da2a-2db0-4d38-b41f-cd42d0288da7",
   "metadata": {
    "executionTime": 2673,
    "lastSuccessfullyExecutedCode": "# Visualizing classification model performance\nfrom sklearn.model_selection import KFold, cross_val_score\n\n# Create models dictionary\nmodels = {\"Logistic Regression\":LogisticRegression(), \"GBC\": GradientBoostingClassifier()}\nresults = []\n\n# Loop through the models' values\nfor model in models.values():\n  \n  # Instantiate a KFold object\n  kf = KFold(n_splits=10, random_state=10, shuffle=True)\n  \n  # Perform cross-validation\n  cv_results = cross_val_score(model, X_train, y_train, cv=kf)\n  results.append(cv_results)\nplt.boxplot(results, labels=models.keys())\nplt.show()"
   },
   "outputs": [
    {
     "data": {
      "image/png": "[encoded data removed]",
      "text/plain": [
       "<Figure size 432x288 with 1 Axes>"
      ]
     },
     "metadata": {
      "needs_background": "light"
     },
     "output_type": "display_data"
    }
   ],
   "source": [
    "# Visualizing classification model performance\n",
    "from sklearn.model_selection import KFold, cross_val_score\n",
    "\n",
    "# Create models dictionary\n",
    "models = {\"Logistic Regression\":LogisticRegression(), \"GBC\": GradientBoostingClassifier()}\n",
    "results = []\n",
    "\n",
    "# Loop through the models' values\n",
    "for model in models.values():\n",
    "  \n",
    "    # Instantiate a KFold object\n",
    "    kf = KFold(n_splits=10, random_state=10, shuffle=True)\n",
    "  \n",
    "    # Perform cross-validation\n",
    "    cv_results = cross_val_score(model, X_train, y_train, cv=kf)\n",
    "    results.append(cv_results)\n",
    "plt.boxplot(results, labels=models.keys())\n",
    "plt.show()"
   ]
  },
  {
   "cell_type": "markdown",
   "id": "a75d435c-6ec3-4587-be5d-1e5cca5b20ff",
   "metadata": {},
   "source": [
    "We see that linear regression perfom better. It would be appropriate to select this model; however, I will check predictive performance on the test set to see if either one can outperform the other."
   ]
  },
  {
   "cell_type": "code",
   "execution_count": 41,
   "id": "246f2368-09ae-4cac-bdb5-7daacb0b2faf",
   "metadata": {
    "executionTime": 40,
    "lastSuccessfullyExecutedCode": "# Create the classification report for both models\nfrom sklearn.metrics import classification_report, confusion_matrix\nclass_rep_logreg = classification_report(y_test, pred_logreg)\nclass_rep_gbc = classification_report(y_test, pred_gbc)\n\nprint(\"Logistic Regression: \\n\", class_rep_logreg)\nprint(\"Gradient Boosting Classifier: \\n\", class_rep_gbc)"
   },
   "outputs": [
    {
     "name": "stdout",
     "output_type": "stream",
     "text": [
      "Logistic Regression: \n",
      "               precision    recall  f1-score   support\n",
      "\n",
      "           0       0.71      0.62      0.66       156\n",
      "           1       0.75      0.82      0.78       219\n",
      "\n",
      "    accuracy                           0.74       375\n",
      "   macro avg       0.73      0.72      0.72       375\n",
      "weighted avg       0.73      0.74      0.73       375\n",
      "\n",
      "Gradient Boosting Classifier: \n",
      "               precision    recall  f1-score   support\n",
      "\n",
      "           0       0.74      0.65      0.69       156\n",
      "           1       0.77      0.84      0.80       219\n",
      "\n",
      "    accuracy                           0.76       375\n",
      "   macro avg       0.76      0.74      0.75       375\n",
      "weighted avg       0.76      0.76      0.76       375\n",
      "\n"
     ]
    }
   ],
   "source": [
    "# Create the classification report for both models\n",
    "from sklearn.metrics import classification_report, confusion_matrix\n",
    "class_rep_logreg = classification_report(y_test, pred_logreg)\n",
    "class_rep_gbc = classification_report(y_test, pred_gbc)\n",
    "\n",
    "print(\"Logistic Regression: \\n\", class_rep_logreg)\n",
    "print(\"Gradient Boosting Classifier: \\n\", class_rep_gbc)"
   ]
  },
  {
   "cell_type": "markdown",
   "id": "84fc2a09-ea39-4a6f-85b2-5d17957e1ac5",
   "metadata": {},
   "source": [
    "I  chose  **classification report** to evaluate the model because provides a detailed evaluation of the model's performance, including precision, recall, F1-score, and support, for each class in the classification problem. By analyzing the precision, recall, and F1-score for each class, we can identify the strengths and weaknesses of the model. This can help us fine-tune the model and improve its overall performance."
   ]
  },
  {
   "cell_type": "code",
   "execution_count": 42,
   "id": "0db1fdc2-b104-49cf-a774-3ab4ceec5203",
   "metadata": {
    "executionTime": 41,
    "lastSuccessfullyExecutedCode": "# Visualizing the  confusion_matrix for Logistic Regression model\nsns.heatmap(confusion_matrix(y_test, pred_logreg), annot=True, fmt='d').set(title='Logistic Regression')\nplt.show()"
   },
   "outputs": [
    {
     "data": {
      "image/png": "[encoded data removed]",
      "text/plain": [
       "<Figure size 432x288 with 2 Axes>"
      ]
     },
     "metadata": {
      "needs_background": "light"
     },
     "output_type": "display_data"
    }
   ],
   "source": [
    "# Visualizing the  confusion_matrix for Logistic Regression model\n",
    "sns.heatmap(confusion_matrix(y_test, pred_logreg), annot=True, fmt='d').set(title='Logistic Regression')\n",
    "plt.show()"
   ]
  },
  {
   "cell_type": "code",
   "execution_count": 43,
   "id": "b280e005-f2e0-4b44-b542-10d792842e76",
   "metadata": {
    "executionTime": 69,
    "lastSuccessfullyExecutedCode": "# Visualizing the confusion_matrix for Gradient Boosting Regressor model\nsns.heatmap(confusion_matrix(y_test, pred_gbc), annot=True, fmt='d').set(title='Gradient Boosting Classifier')\nplt.show()"
   },
   "outputs": [
    {
     "data": {
      "image/png": "[encoded data removed]",
      "text/plain": [
       "<Figure size 432x288 with 2 Axes>"
      ]
     },
     "metadata": {
      "needs_background": "light"
     },
     "output_type": "display_data"
    }
   ],
   "source": [
    "# Visualizing the confusion_matrix for Gradient Boosting Regressor model\n",
    "sns.heatmap(confusion_matrix(y_test, pred_gbc), annot=True, fmt='d').set(title='Gradient Boosting Classifier')\n",
    "plt.show()"
   ]
  },
  {
   "cell_type": "markdown",
   "id": "feb9e1eb-8913-43b8-a280-a369cf10631e",
   "metadata": {},
   "source": [
    "When interpreting a classification report, it's important to look at the metrics for each class in the classification problem, as well as the overall metric. A higher **accuracy** value indicates the model has a higher accuracy in prediction, but it behaves badly with unbalanced datasets. **Recall** determines what proportion of positive results was detected by the classifier. **Precision** is a measure that focuses only on positive examples - it tells how much of the results indicated by the classifier as positive is actually positive. **F1 Score** is the harmonic mean of precision and sensitivity, generally - the higher the F1-score, the better the classifier.\n",
    "\n",
    "Therefore, the Gradient Boosting Regressor model is slightly more accurate that the Logistic Regressionl model with an accuracy of 76% and a better F1 Score, a better precision and  a better recall for both classes. The confusion matrix shows that 285 items were correctly predicted by Gradient Boosting Regressor model a little better than the Logistic Regressionl model that  correctly predicted  276 items. "
   ]
  },
  {
   "cell_type": "markdown",
   "id": "21b3b111-c8e0-4a69-ae7f-27a42c9cb596",
   "metadata": {},
   "source": [
    "# Tuning our models using GridSearchCV\n",
    "\n",
    "We'll perform grid search using 5-fold cross validation to find dt's optimal hyperparameters. "
   ]
  },
  {
   "cell_type": "code",
   "execution_count": 44,
   "id": "23b4faa1-bfc0-4c1d-a841-e1659b6bae04",
   "metadata": {
    "executionTime": 35163,
    "lastSuccessfullyExecutedCode": "# Define params_logreg\nparams_logreg = {'C': [2, 5, 10], 'max_iter': [100, 5000, 1000],'penalty': ['l1', 'l2', 'elasticnet'], 'solver':['lbfgs', 'liblinear', 'newton-cg', 'newton-cholesky', 'sag', 'saga']}\n\n# Import GridSearchCV\nfrom sklearn.model_selection import GridSearchCV\n\n# Instantiate grid_dt\ngrid_logreg = GridSearchCV(estimator=logreg, param_grid=params_logreg, cv=10, n_jobs=-1)\n\n# Fit 'grid_dt' to the training data\nyt_train = y_train.reshape(-1, 1)\nyt_test = y_test.reshape(-1, 1)\ngrid_logreg.fit(X_train, yt_train)\n\n# Summarize results\nprint('Tuned Logistic Regression parameters:', grid_logreg.best_params_)\nprint('Tuned Logistic Regression best accuracy score:', round(grid_logreg.best_score_, 2))\nprint('10-fold CV Logistic Regression  mean accuracy score:', round(results[0].mean(), 2))"
   },
   "outputs": [
    {
     "name": "stdout",
     "output_type": "stream",
     "text": [
      "Tuned Logistic Regression parameters: {'C': 2, 'max_iter': 100, 'penalty': 'l2', 'solver': 'lbfgs'}\n",
      "Tuned Logistic Regression best accuracy score: 0.76\n",
      "10-fold CV Logistic Regression  mean accuracy score: 0.75\n"
     ]
    }
   ],
   "source": [
    "# Define params_logreg\n",
    "params_logreg = {'C': [2, 5, 10], 'max_iter': [100, 5000, 1000],'penalty': ['l1', 'l2', 'elasticnet'], 'solver':['lbfgs', 'liblinear', 'newton-cg', 'newton-cholesky', 'sag', 'saga']}\n",
    "\n",
    "# Import GridSearchCV\n",
    "from sklearn.model_selection import GridSearchCV\n",
    "\n",
    "# Instantiate grid_dt\n",
    "grid_logreg = GridSearchCV(estimator=logreg, param_grid=params_logreg, cv=10, n_jobs=-1)\n",
    "\n",
    "# Fit 'grid_dt' to the training data\n",
    "yt_train = y_train.reshape(-1, 1)\n",
    "yt_test = y_test.reshape(-1, 1)\n",
    "grid_logreg.fit(X_train, yt_train)\n",
    "\n",
    "# Summarize results\n",
    "print('Tuned Logistic Regression parameters:', grid_logreg.best_params_)\n",
    "print('Tuned Logistic Regression best accuracy score:', round(grid_logreg.best_score_, 2))\n",
    "print('10-fold CV Logistic Regression  mean accuracy score:', round(results[0].mean(), 2))"
   ]
  },
  {
   "cell_type": "code",
   "execution_count": 45,
   "id": "ca4f69eb-cb88-4704-abe0-24d5ddb028cd",
   "metadata": {
    "executionTime": 641082,
    "lastSuccessfullyExecutedCode": "# Define params_dt\nparams_gbc = {'learning_rate': [0.02, 0.05, 0.08, 0.1, 0.2], 'subsample':[0.3, 0.5, 0.7, 0.9], 'n_estimators':[50, 100, 150, 200],\n             'max_depth': [1, 2, 3, 4, 5], 'min_samples_leaf': [0.10, 0.30, 0.50, 0.70, 0.90]}\n\n# Import GridSearchCV\nfrom sklearn.model_selection import GridSearchCV\n\n# Instantiate grid_dt\ngrid_gbc = GridSearchCV(estimator=gbc, param_grid=params_gbc , cv=10, n_jobs=-1)\n\n# Fit 'grid_dt' to the training data\ngrid_gbc.fit(X_train, yt_train)\n\n# Summarize results\nprint('Tuned Gradient Boosting Classifier parameters:', grid_gbc.best_params_)\nprint('Tuned Gradient Boosting Classifier Accuracy Score:', round(grid_gbc.best_score_, 2))\nprint('10-fold CV Gradient Boosting Classifier mean accuracy score:', round(results[1].mean(), 2))"
   },
   "outputs": [
    {
     "name": "stdout",
     "output_type": "stream",
     "text": [
      "Tuned Gradient Boosting Classifier parameters: {'learning_rate': 0.05, 'max_depth': 1, 'min_samples_leaf': 0.1, 'n_estimators': 100, 'subsample': 0.9}\n",
      "Tuned Gradient Boosting Classifier Accuracy Score: 0.76\n",
      "10-fold CV Gradient Boosting Classifier mean accuracy score: 0.73\n"
     ]
    }
   ],
   "source": [
    "# Define params_dt\n",
    "params_gbc = {'learning_rate': [0.02, 0.05, 0.08, 0.1, 0.2], 'subsample':[0.3, 0.5, 0.7, 0.9], 'n_estimators':[50, 100, 150, 200],\n",
    "             'max_depth': [1, 2, 3, 4, 5], 'min_samples_leaf': [0.10, 0.30, 0.50, 0.70, 0.90]}\n",
    "\n",
    "# Import GridSearchCV\n",
    "from sklearn.model_selection import GridSearchCV\n",
    "\n",
    "# Instantiate grid_dt\n",
    "grid_gbc = GridSearchCV(estimator=gbc, param_grid=params_gbc , cv=10, n_jobs=-1)\n",
    "\n",
    "# Fit 'grid_dt' to the training data\n",
    "grid_gbc.fit(X_train, yt_train)\n",
    "\n",
    "# Summarize results\n",
    "print('Tuned Gradient Boosting Classifier parameters:', grid_gbc.best_params_)\n",
    "print('Tuned Gradient Boosting Classifier Accuracy Score:', round(grid_gbc.best_score_, 2))\n",
    "print('10-fold CV Gradient Boosting Classifier mean accuracy score:', round(results[1].mean(), 2))"
   ]
  },
  {
   "cell_type": "markdown",
   "id": "e1dd8353-f623-4eef-9bfb-bba17ba84ad4",
   "metadata": {},
   "source": [
    "The train set accuracy of our tuned models are both roughly equal to 76% and are greater than 10-fold CV accuracy mean."
   ]
  },
  {
   "cell_type": "code",
   "execution_count": 46,
   "id": "b5232d9d-db88-411e-b1ae-2c689a0c9c2b",
   "metadata": {
    "executionTime": 35,
    "lastSuccessfullyExecutedCode": "# Extract the best estimator\nbest_model_logreg = grid_logreg.best_estimator_\nbest_model_gbc = grid_gbc.best_estimator_\n\n# Predict test set labels\nyb_pred = best_model_logreg.predict(X_test)\nyc_pred = best_model_gbc.predict(X_test)\n\n# Evaluate it on the test set\nprint(\"Classification report of tuned logistic regression classifier: \\n \", classification_report(yt_test, yb_pred))\nprint(\"Classification report of tuned Gradient Boosting Classifier: \\n \", classification_report(yt_test, yc_pred))"
   },
   "outputs": [
    {
     "name": "stdout",
     "output_type": "stream",
     "text": [
      "Classification report of tuned logistic regression classifier: \n",
      "                precision    recall  f1-score   support\n",
      "\n",
      "           0       0.71      0.60      0.65       156\n",
      "           1       0.74      0.83      0.78       219\n",
      "\n",
      "    accuracy                           0.73       375\n",
      "   macro avg       0.73      0.71      0.72       375\n",
      "weighted avg       0.73      0.73      0.73       375\n",
      "\n",
      "Classification report of tuned Gradient Boosting Classifier: \n",
      "                precision    recall  f1-score   support\n",
      "\n",
      "           0       0.71      0.60      0.65       156\n",
      "           1       0.74      0.83      0.78       219\n",
      "\n",
      "    accuracy                           0.73       375\n",
      "   macro avg       0.73      0.71      0.71       375\n",
      "weighted avg       0.73      0.73      0.73       375\n",
      "\n"
     ]
    }
   ],
   "source": [
    "# Extract the best estimator\n",
    "best_model_logreg = grid_logreg.best_estimator_\n",
    "best_model_gbc = grid_gbc.best_estimator_\n",
    "\n",
    "# Predict test set labels\n",
    "yb_pred = best_model_logreg.predict(X_test)\n",
    "yc_pred = best_model_gbc.predict(X_test)\n",
    "\n",
    "# Evaluate it on the test set\n",
    "print(\"Classification report of tuned logistic regression classifier: \\n \", classification_report(yt_test, yb_pred))\n",
    "print(\"Classification report of tuned Gradient Boosting Classifier: \\n \", classification_report(yt_test, yc_pred))"
   ]
  },
  {
   "cell_type": "markdown",
   "id": "e0a63a46-5a1e-4891-9f63-e49c5d1966a5",
   "metadata": {},
   "source": [
    "The test set accuracy of our tuned models are both roughly equal to 73% and are slightly smaller than the train set accuracy, showing that our models are a little overfitting."
   ]
  },
  {
   "cell_type": "markdown",
   "id": "77176f71-eade-4454-8301-6e897d932ba0",
   "metadata": {},
   "source": [
    "# Performing classification with neural networks"
   ]
  },
  {
   "cell_type": "markdown",
   "id": "33592b87-c60d-4bec-ab8f-1b107e10e867",
   "metadata": {},
   "source": [
    "## MLPClassifier"
   ]
  },
  {
   "cell_type": "code",
   "execution_count": 47,
   "id": "04f2e007-ae86-46b9-9f6d-680e067c901f",
   "metadata": {
    "executionTime": 26,
    "lastSuccessfullyExecutedCode": "from sklearn.neural_network import MLPClassifier"
   },
   "outputs": [],
   "source": [
    "from sklearn.neural_network import MLPClassifier"
   ]
  },
  {
   "cell_type": "code",
   "execution_count": 48,
   "id": "f4a50fb8-ccf1-4ec3-a62b-116489e2deed",
   "metadata": {
    "executionTime": 1184,
    "lastSuccessfullyExecutedCode": "cls_model = MLPClassifier(\n    hidden_layer_sizes=(80, 40, 20),\n    activation='logistic',\n    solver='adam',\n    random_state=42,\n    max_iter=400,\n    batch_size=40)\ncls_model.fit(X_train, y_train)"
   },
   "outputs": [
    {
     "data": {
      "text/html": [
       "<style>#sk-container-id-1 {color: black;background-color: white;}#sk-container-id-1 pre{padding: 0;}#sk-container-id-1 div.sk-toggleable {background-color: white;}#sk-container-id-1 label.sk-toggleable__label {cursor: pointer;display: block;width: 100%;margin-bottom: 0;padding: 0.3em;box-sizing: border-box;text-align: center;}#sk-container-id-1 label.sk-toggleable__label-arrow:before {content: \"▸\";float: left;margin-right: 0.25em;color: #696969;}#sk-container-id-1 label.sk-toggleable__label-arrow:hover:before {color: black;}#sk-container-id-1 div.sk-estimator:hover label.sk-toggleable__label-arrow:before {color: black;}#sk-container-id-1 div.sk-toggleable__content {max-height: 0;max-width: 0;overflow: hidden;text-align: left;background-color: #f0f8ff;}#sk-container-id-1 div.sk-toggleable__content pre {margin: 0.2em;color: black;border-radius: 0.25em;background-color: #f0f8ff;}#sk-container-id-1 input.sk-toggleable__control:checked~div.sk-toggleable__content {max-height: 200px;max-width: 100%;overflow: auto;}#sk-container-id-1 input.sk-toggleable__control:checked~label.sk-toggleable__label-arrow:before {content: \"▾\";}#sk-container-id-1 div.sk-estimator input.sk-toggleable__control:checked~label.sk-toggleable__label {background-color: #d4ebff;}#sk-container-id-1 div.sk-label input.sk-toggleable__control:checked~label.sk-toggleable__label {background-color: #d4ebff;}#sk-container-id-1 input.sk-hidden--visually {border: 0;clip: rect(1px 1px 1px 1px);clip: rect(1px, 1px, 1px, 1px);height: 1px;margin: -1px;overflow: hidden;padding: 0;position: absolute;width: 1px;}#sk-container-id-1 div.sk-estimator {font-family: monospace;background-color: #f0f8ff;border: 1px dotted black;border-radius: 0.25em;box-sizing: border-box;margin-bottom: 0.5em;}#sk-container-id-1 div.sk-estimator:hover {background-color: #d4ebff;}#sk-container-id-1 div.sk-parallel-item::after {content: \"\";width: 100%;border-bottom: 1px solid gray;flex-grow: 1;}#sk-container-id-1 div.sk-label:hover label.sk-toggleable__label {background-color: #d4ebff;}#sk-container-id-1 div.sk-serial::before {content: \"\";position: absolute;border-left: 1px solid gray;box-sizing: border-box;top: 0;bottom: 0;left: 50%;z-index: 0;}#sk-container-id-1 div.sk-serial {display: flex;flex-direction: column;align-items: center;background-color: white;padding-right: 0.2em;padding-left: 0.2em;position: relative;}#sk-container-id-1 div.sk-item {position: relative;z-index: 1;}#sk-container-id-1 div.sk-parallel {display: flex;align-items: stretch;justify-content: center;background-color: white;position: relative;}#sk-container-id-1 div.sk-item::before, #sk-container-id-1 div.sk-parallel-item::before {content: \"\";position: absolute;border-left: 1px solid gray;box-sizing: border-box;top: 0;bottom: 0;left: 50%;z-index: -1;}#sk-container-id-1 div.sk-parallel-item {display: flex;flex-direction: column;z-index: 1;position: relative;background-color: white;}#sk-container-id-1 div.sk-parallel-item:first-child::after {align-self: flex-end;width: 50%;}#sk-container-id-1 div.sk-parallel-item:last-child::after {align-self: flex-start;width: 50%;}#sk-container-id-1 div.sk-parallel-item:only-child::after {width: 0;}#sk-container-id-1 div.sk-dashed-wrapped {border: 1px dashed gray;margin: 0 0.4em 0.5em 0.4em;box-sizing: border-box;padding-bottom: 0.4em;background-color: white;}#sk-container-id-1 div.sk-label label {font-family: monospace;font-weight: bold;display: inline-block;line-height: 1.2em;}#sk-container-id-1 div.sk-label-container {text-align: center;}#sk-container-id-1 div.sk-container {/* jupyter's `normalize.less` sets `[hidden] { display: none; }` but bootstrap.min.css set `[hidden] { display: none !important; }` so we also need the `!important` here to be able to override the default hidden behavior on the sphinx rendered scikit-learn.org. See: https://github.com/scikit-learn/scikit-learn/issues/21755 */display: inline-block !important;position: relative;}#sk-container-id-1 div.sk-text-repr-fallback {display: none;}</style><div id=\"sk-container-id-1\" class=\"sk-top-container\"><div class=\"sk-text-repr-fallback\"><pre>MLPClassifier(activation=&#x27;logistic&#x27;, batch_size=40,\n",
       "              hidden_layer_sizes=(80, 40, 20), max_iter=400, random_state=42)</pre><b>In a Jupyter environment, please rerun this cell to show the HTML representation or trust the notebook. <br />On GitHub, the HTML representation is unable to render, please try loading this page with nbviewer.org.</b></div><div class=\"sk-container\" hidden><div class=\"sk-item\"><div class=\"sk-estimator sk-toggleable\"><input class=\"sk-toggleable__control sk-hidden--visually\" id=\"sk-estimator-id-1\" type=\"checkbox\" checked><label for=\"sk-estimator-id-1\" class=\"sk-toggleable__label sk-toggleable__label-arrow\">MLPClassifier</label><div class=\"sk-toggleable__content\"><pre>MLPClassifier(activation=&#x27;logistic&#x27;, batch_size=40,\n",
       "              hidden_layer_sizes=(80, 40, 20), max_iter=400, random_state=42)</pre></div></div></div></div></div>"
      ],
      "text/plain": [
       "MLPClassifier(activation='logistic', batch_size=40,\n",
       "              hidden_layer_sizes=(80, 40, 20), max_iter=400, random_state=42)"
      ]
     },
     "execution_count": 48,
     "metadata": {},
     "output_type": "execute_result"
    }
   ],
   "source": [
    "cls_model = MLPClassifier(\n",
    "    hidden_layer_sizes=(80, 40, 20),\n",
    "    activation='logistic',\n",
    "    solver='adam',\n",
    "    random_state=42,\n",
    "    max_iter=400,\n",
    "    batch_size=40)\n",
    "cls_model.fit(X_train, y_train)"
   ]
  },
  {
   "cell_type": "code",
   "execution_count": 49,
   "id": "9527c541-89b0-4648-b19a-e344cd33432c",
   "metadata": {
    "executionTime": 9892,
    "lastSuccessfullyExecutedCode": "# Perform cross-validation\ncv_results = cross_val_score(cls_model, X_train, y_train, cv=kf)\nprint('10-fold CV MLPClassifier mean accuracy score:', round(cv_results.mean(), 2))"
   },
   "outputs": [
    {
     "name": "stdout",
     "output_type": "stream",
     "text": [
      "10-fold CV MLPClassifier mean accuracy score: 0.74\n"
     ]
    }
   ],
   "source": [
    "# Perform cross-validation\n",
    "cv_results = cross_val_score(cls_model, X_train, y_train, cv=kf)\n",
    "print('10-fold CV MLPClassifier mean accuracy score:', round(cv_results.mean(), 2))"
   ]
  },
  {
   "cell_type": "code",
   "execution_count": 50,
   "id": "afe297a3-b98a-4aaa-afb1-f888ba7dd94b",
   "metadata": {
    "executionTime": 148,
    "lastSuccessfullyExecutedCode": "y_pred_mlp = cls_model.predict(X_test)\nprint(classification_report(y_test, y_pred_mlp))"
   },
   "outputs": [
    {
     "name": "stdout",
     "output_type": "stream",
     "text": [
      "              precision    recall  f1-score   support\n",
      "\n",
      "           0       0.71      0.68      0.69       156\n",
      "           1       0.78      0.80      0.79       219\n",
      "\n",
      "    accuracy                           0.75       375\n",
      "   macro avg       0.74      0.74      0.74       375\n",
      "weighted avg       0.75      0.75      0.75       375\n",
      "\n"
     ]
    }
   ],
   "source": [
    "y_pred_mlp = cls_model.predict(X_test)\n",
    "print(classification_report(y_test, y_pred_mlp))"
   ]
  },
  {
   "cell_type": "markdown",
   "id": "9a53402d-5217-443d-bb35-916c6d2cf514",
   "metadata": {},
   "source": [
    "It perform slightly better than our tuned Logistic Regression and Gradient Boosting Classifier models with an accuracy of 75%."
   ]
  },
  {
   "cell_type": "markdown",
   "id": "d590afa0-4d47-4b07-bc7f-78b96c2afe45",
   "metadata": {},
   "source": [
    "## Neural network in Keras"
   ]
  },
  {
   "cell_type": "code",
   "execution_count": 51,
   "id": "3123fe03-564b-4ad1-b2a8-5533ad606649",
   "metadata": {
    "executionTime": 0,
    "lastSuccessfullyExecutedCode": "import keras\nfrom keras.callbacks import EarlyStopping\nfrom keras.models import Sequential\nfrom keras.layers import Dense, Dropout"
   },
   "outputs": [],
   "source": [
    "import keras\n",
    "from keras.callbacks import EarlyStopping\n",
    "from keras.models import Sequential\n",
    "from keras.layers import Dense, Dropout"
   ]
  },
  {
   "cell_type": "code",
   "execution_count": 52,
   "id": "3a8402c5-fbde-4e62-800f-d839829d6d20",
   "metadata": {
    "executionTime": 21,
    "lastSuccessfullyExecutedCode": "import tensorflow as tf\n# sets seeds for base-python, numpy and tf\ntf.keras.utils.set_random_seed(42)  \ntf.config.experimental.enable_op_determinism()"
   },
   "outputs": [],
   "source": [
    "import tensorflow as tf\n",
    "# sets seeds for base-python, numpy and tf\n",
    "tf.keras.utils.set_random_seed(42)  \n",
    "tf.config.experimental.enable_op_determinism()"
   ]
  },
  {
   "cell_type": "code",
   "execution_count": 53,
   "id": "e908c817-a956-46be-9e6a-a33af1fee783",
   "metadata": {
    "executionTime": 24,
    "lastSuccessfullyExecutedCode": "y_train_nn = y_train.astype('float32')\ny_test_nn = y_test.astype('float32')\nX_train.shape, X_test.shape, y_train_nn.shape, y_test_nn.shape"
   },
   "outputs": [
    {
     "data": {
      "text/plain": [
       "((1125, 20), (375, 20), (1125,), (375,))"
      ]
     },
     "execution_count": 53,
     "metadata": {},
     "output_type": "execute_result"
    }
   ],
   "source": [
    "y_train_nn = y_train.astype('float32')\n",
    "y_test_nn = y_test.astype('float32')\n",
    "X_train.shape, X_test.shape, y_train_nn.shape, y_test_nn.shape"
   ]
  },
  {
   "cell_type": "code",
   "execution_count": 54,
   "id": "3f000aab-0cab-42ed-b227-cee37cb6dad1",
   "metadata": {
    "executionTime": 44,
    "lastSuccessfullyExecutedCode": "# Build the model \nmodel = Sequential()\nmodel.add(Dense(X_train.shape[1], kernel_regularizer = 'l1_l2', activation = 'relu', input_shape=(X_train.shape[1],)))\nmodel.add(Dense(X_train.shape[1]/2, activation = 'relu'))\nmodel.add(Dense(X_train.shape[1]/2, activation = 'relu'))\nmodel.add(Dense(1, activation = 'sigmoid')) #activation sigmoid for binary classification"
   },
   "outputs": [],
   "source": [
    "# Build the model \n",
    "model = Sequential()\n",
    "model.add(Dense(X_train.shape[1], kernel_regularizer = 'l1_l2', activation = 'relu', input_shape=(X_train.shape[1],)))\n",
    "model.add(Dense(X_train.shape[1]/2, activation = 'relu'))\n",
    "model.add(Dense(X_train.shape[1]/2, activation = 'relu'))\n",
    "model.add(Dense(1, activation = 'sigmoid')) #activation sigmoid for binary classification"
   ]
  },
  {
   "cell_type": "code",
   "execution_count": 55,
   "id": "76095faa-69e5-4873-9eab-77d523b41f94",
   "metadata": {
    "executionTime": 6695,
    "lastSuccessfullyExecutedCode": "# Compile and train the model\nearly_stop = EarlyStopping(monitor = 'val_loss', mode = 'min', verbose = 1, patience = 25)\nmodel.compile(loss = 'binary_crossentropy',  optimizer =keras.optimizers.Adam(learning_rate=0.0025), metrics=['accuracy'])\nmodel.fit(X_train, y_train_nn, validation_data = (X_test, y_test_nn), batch_size = 40, epochs=400, callbacks = [early_stop])"
   },
   "outputs": [
    {
     "name": "stdout",
     "output_type": "stream",
     "text": [
      "Epoch 1/400\n",
      "29/29 [==============================] - 1s 10ms/step - loss: 1.6033 - accuracy: 0.5964 - val_loss: 1.2938 - val_accuracy: 0.5840\n",
      "Epoch 2/400\n",
      "29/29 [==============================] - 0s 2ms/step - loss: 1.1654 - accuracy: 0.5964 - val_loss: 1.0456 - val_accuracy: 0.5840\n",
      "Epoch 3/400\n",
      "29/29 [==============================] - 0s 2ms/step - loss: 0.9528 - accuracy: 0.5964 - val_loss: 0.8717 - val_accuracy: 0.5840\n",
      "Epoch 4/400\n",
      "29/29 [==============================] - 0s 3ms/step - loss: 0.8071 - accuracy: 0.5964 - val_loss: 0.7573 - val_accuracy: 0.5840\n",
      "Epoch 5/400\n",
      "29/29 [==============================] - 0s 2ms/step - loss: 0.7220 - accuracy: 0.5964 - val_loss: 0.6982 - val_accuracy: 0.5840\n",
      "Epoch 6/400\n",
      "29/29 [==============================] - 0s 2ms/step - loss: 0.6806 - accuracy: 0.5964 - val_loss: 0.6773 - val_accuracy: 0.5840\n",
      "Epoch 7/400\n",
      "29/29 [==============================] - 0s 2ms/step - loss: 0.6690 - accuracy: 0.5964 - val_loss: 0.6715 - val_accuracy: 0.5840\n",
      "Epoch 8/400\n",
      "29/29 [==============================] - 0s 2ms/step - loss: 0.6654 - accuracy: 0.5964 - val_loss: 0.6664 - val_accuracy: 0.5840\n",
      "Epoch 9/400\n",
      "29/29 [==============================] - 0s 2ms/step - loss: 0.6597 - accuracy: 0.5964 - val_loss: 0.6629 - val_accuracy: 0.5840\n",
      "Epoch 10/400\n",
      "29/29 [==============================] - 0s 2ms/step - loss: 0.6559 - accuracy: 0.5964 - val_loss: 0.6617 - val_accuracy: 0.5840\n",
      "Epoch 11/400\n",
      "29/29 [==============================] - 0s 2ms/step - loss: 0.6572 - accuracy: 0.6036 - val_loss: 0.6597 - val_accuracy: 0.5840\n",
      "Epoch 12/400\n",
      "29/29 [==============================] - 0s 2ms/step - loss: 0.6457 - accuracy: 0.6231 - val_loss: 0.6524 - val_accuracy: 0.5840\n",
      "Epoch 13/400\n",
      "29/29 [==============================] - 0s 2ms/step - loss: 0.6342 - accuracy: 0.6569 - val_loss: 0.6394 - val_accuracy: 0.6693\n",
      "Epoch 14/400\n",
      "29/29 [==============================] - 0s 2ms/step - loss: 0.6249 - accuracy: 0.6987 - val_loss: 0.6205 - val_accuracy: 0.7013\n",
      "Epoch 15/400\n",
      "29/29 [==============================] - 0s 2ms/step - loss: 0.6205 - accuracy: 0.6898 - val_loss: 0.6240 - val_accuracy: 0.6987\n",
      "Epoch 16/400\n",
      "29/29 [==============================] - 0s 2ms/step - loss: 0.6109 - accuracy: 0.6898 - val_loss: 0.6027 - val_accuracy: 0.7147\n",
      "Epoch 17/400\n",
      "29/29 [==============================] - 0s 2ms/step - loss: 0.5955 - accuracy: 0.7138 - val_loss: 0.5979 - val_accuracy: 0.7173\n",
      "Epoch 18/400\n",
      "29/29 [==============================] - 0s 2ms/step - loss: 0.5939 - accuracy: 0.6987 - val_loss: 0.6401 - val_accuracy: 0.6667\n",
      "Epoch 19/400\n",
      "29/29 [==============================] - 0s 2ms/step - loss: 0.5850 - accuracy: 0.7360 - val_loss: 0.5874 - val_accuracy: 0.7040\n",
      "Epoch 20/400\n",
      "29/29 [==============================] - 0s 2ms/step - loss: 0.5789 - accuracy: 0.7271 - val_loss: 0.6512 - val_accuracy: 0.6693\n",
      "Epoch 21/400\n",
      "29/29 [==============================] - 0s 2ms/step - loss: 0.6051 - accuracy: 0.7049 - val_loss: 0.5802 - val_accuracy: 0.7093\n",
      "Epoch 22/400\n",
      "29/29 [==============================] - 0s 2ms/step - loss: 0.5717 - accuracy: 0.7280 - val_loss: 0.5705 - val_accuracy: 0.7200\n",
      "Epoch 23/400\n",
      "29/29 [==============================] - 0s 2ms/step - loss: 0.5580 - accuracy: 0.7556 - val_loss: 0.6023 - val_accuracy: 0.7173\n",
      "Epoch 24/400\n",
      "29/29 [==============================] - 0s 2ms/step - loss: 0.5816 - accuracy: 0.7413 - val_loss: 0.5643 - val_accuracy: 0.7173\n",
      "Epoch 25/400\n",
      "29/29 [==============================] - 0s 2ms/step - loss: 0.5607 - accuracy: 0.7342 - val_loss: 0.5644 - val_accuracy: 0.7227\n",
      "Epoch 26/400\n",
      "29/29 [==============================] - 0s 2ms/step - loss: 0.5767 - accuracy: 0.7316 - val_loss: 0.5603 - val_accuracy: 0.7173\n",
      "Epoch 27/400\n",
      "29/29 [==============================] - 0s 2ms/step - loss: 0.5560 - accuracy: 0.7484 - val_loss: 0.5685 - val_accuracy: 0.7173\n",
      "Epoch 28/400\n",
      "29/29 [==============================] - 0s 2ms/step - loss: 0.5462 - accuracy: 0.7511 - val_loss: 0.6045 - val_accuracy: 0.7200\n",
      "Epoch 29/400\n",
      "29/29 [==============================] - 0s 2ms/step - loss: 0.5831 - accuracy: 0.7076 - val_loss: 0.6072 - val_accuracy: 0.7147\n",
      "Epoch 30/400\n",
      "29/29 [==============================] - 0s 2ms/step - loss: 0.5461 - accuracy: 0.7538 - val_loss: 0.5550 - val_accuracy: 0.7360\n",
      "Epoch 31/400\n",
      "29/29 [==============================] - 0s 2ms/step - loss: 0.5536 - accuracy: 0.7440 - val_loss: 0.5488 - val_accuracy: 0.7200\n",
      "Epoch 32/400\n",
      "29/29 [==============================] - 0s 2ms/step - loss: 0.5585 - accuracy: 0.7458 - val_loss: 0.5642 - val_accuracy: 0.7200\n",
      "Epoch 33/400\n",
      "29/29 [==============================] - 0s 2ms/step - loss: 0.5484 - accuracy: 0.7484 - val_loss: 0.5489 - val_accuracy: 0.7360\n",
      "Epoch 34/400\n",
      "29/29 [==============================] - 0s 2ms/step - loss: 0.5382 - accuracy: 0.7529 - val_loss: 0.5531 - val_accuracy: 0.7147\n",
      "Epoch 35/400\n",
      "29/29 [==============================] - 0s 2ms/step - loss: 0.5303 - accuracy: 0.7538 - val_loss: 0.5916 - val_accuracy: 0.7227\n",
      "Epoch 36/400\n",
      "29/29 [==============================] - 0s 2ms/step - loss: 0.5476 - accuracy: 0.7342 - val_loss: 0.5568 - val_accuracy: 0.7227\n",
      "Epoch 37/400\n",
      "29/29 [==============================] - 0s 2ms/step - loss: 0.5407 - accuracy: 0.7511 - val_loss: 0.5668 - val_accuracy: 0.7200\n",
      "Epoch 38/400\n",
      "29/29 [==============================] - 0s 2ms/step - loss: 0.5593 - accuracy: 0.7440 - val_loss: 0.5756 - val_accuracy: 0.7227\n",
      "Epoch 39/400\n",
      "29/29 [==============================] - 0s 2ms/step - loss: 0.5530 - accuracy: 0.7449 - val_loss: 0.5458 - val_accuracy: 0.7333\n",
      "Epoch 40/400\n",
      "29/29 [==============================] - 0s 2ms/step - loss: 0.5296 - accuracy: 0.7547 - val_loss: 0.5409 - val_accuracy: 0.7333\n",
      "Epoch 41/400\n",
      "29/29 [==============================] - 0s 2ms/step - loss: 0.5273 - accuracy: 0.7564 - val_loss: 0.5520 - val_accuracy: 0.7253\n",
      "Epoch 42/400\n",
      "29/29 [==============================] - 0s 2ms/step - loss: 0.5449 - accuracy: 0.7458 - val_loss: 0.5500 - val_accuracy: 0.7360\n",
      "Epoch 43/400\n",
      "29/29 [==============================] - 0s 2ms/step - loss: 0.5341 - accuracy: 0.7564 - val_loss: 0.5534 - val_accuracy: 0.7173\n",
      "Epoch 44/400\n",
      "29/29 [==============================] - 0s 2ms/step - loss: 0.5369 - accuracy: 0.7431 - val_loss: 0.5469 - val_accuracy: 0.7307\n",
      "Epoch 45/400\n",
      "29/29 [==============================] - 0s 2ms/step - loss: 0.5291 - accuracy: 0.7396 - val_loss: 0.5403 - val_accuracy: 0.7333\n",
      "Epoch 46/400\n",
      "29/29 [==============================] - 0s 2ms/step - loss: 0.5464 - accuracy: 0.7440 - val_loss: 0.5676 - val_accuracy: 0.7200\n",
      "Epoch 47/400\n",
      "29/29 [==============================] - 0s 2ms/step - loss: 0.5345 - accuracy: 0.7609 - val_loss: 0.5479 - val_accuracy: 0.7307\n",
      "Epoch 48/400\n",
      "29/29 [==============================] - 0s 2ms/step - loss: 0.5330 - accuracy: 0.7396 - val_loss: 0.5368 - val_accuracy: 0.7333\n",
      "Epoch 49/400\n",
      "29/29 [==============================] - 0s 2ms/step - loss: 0.5234 - accuracy: 0.7493 - val_loss: 0.5559 - val_accuracy: 0.7467\n",
      "Epoch 50/400\n",
      "29/29 [==============================] - 0s 2ms/step - loss: 0.5351 - accuracy: 0.7493 - val_loss: 0.5400 - val_accuracy: 0.7333\n",
      "Epoch 51/400\n",
      "29/29 [==============================] - 0s 2ms/step - loss: 0.5402 - accuracy: 0.7422 - val_loss: 0.5369 - val_accuracy: 0.7333\n",
      "Epoch 52/400\n",
      "29/29 [==============================] - 0s 2ms/step - loss: 0.5312 - accuracy: 0.7493 - val_loss: 0.5417 - val_accuracy: 0.7333\n",
      "Epoch 53/400\n",
      "29/29 [==============================] - 0s 2ms/step - loss: 0.5238 - accuracy: 0.7591 - val_loss: 0.5375 - val_accuracy: 0.7333\n",
      "Epoch 54/400\n",
      "29/29 [==============================] - 0s 2ms/step - loss: 0.5329 - accuracy: 0.7600 - val_loss: 0.5389 - val_accuracy: 0.7360\n",
      "Epoch 55/400\n",
      "29/29 [==============================] - 0s 2ms/step - loss: 0.5393 - accuracy: 0.7538 - val_loss: 0.5372 - val_accuracy: 0.7387\n",
      "Epoch 56/400\n",
      "29/29 [==============================] - 0s 2ms/step - loss: 0.5214 - accuracy: 0.7573 - val_loss: 0.5626 - val_accuracy: 0.7173\n",
      "Epoch 57/400\n",
      "29/29 [==============================] - 0s 2ms/step - loss: 0.5273 - accuracy: 0.7511 - val_loss: 0.5356 - val_accuracy: 0.7360\n",
      "Epoch 58/400\n",
      "29/29 [==============================] - 0s 2ms/step - loss: 0.5229 - accuracy: 0.7538 - val_loss: 0.5504 - val_accuracy: 0.7413\n",
      "Epoch 59/400\n",
      "29/29 [==============================] - 0s 2ms/step - loss: 0.5336 - accuracy: 0.7458 - val_loss: 0.5370 - val_accuracy: 0.7360\n",
      "Epoch 60/400\n",
      "29/29 [==============================] - 0s 2ms/step - loss: 0.5184 - accuracy: 0.7591 - val_loss: 0.5361 - val_accuracy: 0.7360\n",
      "Epoch 61/400\n",
      "29/29 [==============================] - 0s 2ms/step - loss: 0.5315 - accuracy: 0.7511 - val_loss: 0.5391 - val_accuracy: 0.7413\n",
      "Epoch 62/400\n",
      "29/29 [==============================] - 0s 2ms/step - loss: 0.5290 - accuracy: 0.7547 - val_loss: 0.5339 - val_accuracy: 0.7387\n",
      "Epoch 63/400\n",
      "29/29 [==============================] - 0s 2ms/step - loss: 0.5266 - accuracy: 0.7538 - val_loss: 0.5576 - val_accuracy: 0.7200\n",
      "Epoch 64/400\n",
      "29/29 [==============================] - 0s 2ms/step - loss: 0.5250 - accuracy: 0.7582 - val_loss: 0.5374 - val_accuracy: 0.7440\n",
      "Epoch 65/400\n",
      "29/29 [==============================] - 0s 2ms/step - loss: 0.5257 - accuracy: 0.7476 - val_loss: 0.5601 - val_accuracy: 0.7413\n",
      "Epoch 66/400\n",
      "29/29 [==============================] - 0s 2ms/step - loss: 0.5358 - accuracy: 0.7431 - val_loss: 0.5475 - val_accuracy: 0.7253\n",
      "Epoch 67/400\n",
      "29/29 [==============================] - 0s 2ms/step - loss: 0.5365 - accuracy: 0.7467 - val_loss: 0.5394 - val_accuracy: 0.7387\n",
      "Epoch 68/400\n",
      "29/29 [==============================] - 0s 2ms/step - loss: 0.5271 - accuracy: 0.7520 - val_loss: 0.5342 - val_accuracy: 0.7413\n",
      "Epoch 69/400\n",
      "29/29 [==============================] - 0s 2ms/step - loss: 0.5238 - accuracy: 0.7529 - val_loss: 0.5353 - val_accuracy: 0.7387\n",
      "Epoch 70/400\n",
      "29/29 [==============================] - 0s 2ms/step - loss: 0.5196 - accuracy: 0.7547 - val_loss: 0.5580 - val_accuracy: 0.7440\n",
      "Epoch 71/400\n",
      "29/29 [==============================] - 0s 2ms/step - loss: 0.5840 - accuracy: 0.7289 - val_loss: 0.5573 - val_accuracy: 0.7307\n",
      "Epoch 72/400\n",
      "29/29 [==============================] - 0s 2ms/step - loss: 0.5420 - accuracy: 0.7582 - val_loss: 0.5494 - val_accuracy: 0.7440\n",
      "Epoch 73/400\n",
      "29/29 [==============================] - 0s 2ms/step - loss: 0.5337 - accuracy: 0.7538 - val_loss: 0.5686 - val_accuracy: 0.7147\n",
      "Epoch 74/400\n",
      "29/29 [==============================] - 0s 3ms/step - loss: 0.5414 - accuracy: 0.7431 - val_loss: 0.5530 - val_accuracy: 0.7173\n",
      "Epoch 75/400\n",
      "29/29 [==============================] - 0s 2ms/step - loss: 0.5223 - accuracy: 0.7520 - val_loss: 0.5442 - val_accuracy: 0.7573\n",
      "Epoch 76/400\n",
      "29/29 [==============================] - 0s 2ms/step - loss: 0.5428 - accuracy: 0.7556 - val_loss: 0.5423 - val_accuracy: 0.7200\n",
      "Epoch 77/400\n",
      "29/29 [==============================] - 0s 2ms/step - loss: 0.5360 - accuracy: 0.7422 - val_loss: 0.5505 - val_accuracy: 0.7147\n",
      "Epoch 78/400\n",
      "29/29 [==============================] - 0s 2ms/step - loss: 0.5267 - accuracy: 0.7502 - val_loss: 0.5399 - val_accuracy: 0.7307\n",
      "Epoch 79/400\n",
      "29/29 [==============================] - 0s 2ms/step - loss: 0.5312 - accuracy: 0.7422 - val_loss: 0.5491 - val_accuracy: 0.7173\n",
      "Epoch 80/400\n",
      "29/29 [==============================] - 0s 2ms/step - loss: 0.5254 - accuracy: 0.7547 - val_loss: 0.5355 - val_accuracy: 0.7333\n",
      "Epoch 81/400\n",
      "29/29 [==============================] - 0s 2ms/step - loss: 0.5228 - accuracy: 0.7493 - val_loss: 0.5385 - val_accuracy: 0.7413\n",
      "Epoch 82/400\n",
      "29/29 [==============================] - 0s 2ms/step - loss: 0.5299 - accuracy: 0.7484 - val_loss: 0.5510 - val_accuracy: 0.7573\n",
      "Epoch 83/400\n",
      "29/29 [==============================] - 0s 2ms/step - loss: 0.5211 - accuracy: 0.7609 - val_loss: 0.5493 - val_accuracy: 0.7280\n",
      "Epoch 84/400\n",
      "29/29 [==============================] - 0s 2ms/step - loss: 0.5171 - accuracy: 0.7618 - val_loss: 0.5341 - val_accuracy: 0.7360\n",
      "Epoch 85/400\n",
      "29/29 [==============================] - 0s 2ms/step - loss: 0.5269 - accuracy: 0.7476 - val_loss: 0.5348 - val_accuracy: 0.7333\n",
      "Epoch 86/400\n",
      "29/29 [==============================] - 0s 2ms/step - loss: 0.5223 - accuracy: 0.7484 - val_loss: 0.5459 - val_accuracy: 0.7253\n",
      "Epoch 87/400\n",
      "29/29 [==============================] - 0s 2ms/step - loss: 0.5289 - accuracy: 0.7484 - val_loss: 0.5371 - val_accuracy: 0.7413\n",
      "Epoch 87: early stopping\n"
     ]
    },
    {
     "data": {
      "text/plain": [
       "<keras.callbacks.History at 0x1f00634e800>"
      ]
     },
     "execution_count": 55,
     "metadata": {},
     "output_type": "execute_result"
    }
   ],
   "source": [
    "# Compile and train the model\n",
    "early_stop = EarlyStopping(monitor = 'val_loss', mode = 'min', verbose = 1, patience = 25)\n",
    "model.compile(loss = 'binary_crossentropy',  optimizer =keras.optimizers.Adam(learning_rate=0.0025), metrics=['accuracy'])\n",
    "model.fit(X_train, y_train_nn, validation_data = (X_test, y_test_nn), batch_size = 40, epochs=400, callbacks = [early_stop])"
   ]
  },
  {
   "cell_type": "code",
   "execution_count": 56,
   "id": "be260a48-5080-4fa7-86e5-973758b229b7",
   "metadata": {
    "executionTime": 81,
    "lastSuccessfullyExecutedCode": "# Create a graph comparing training and validation loss\nlossest = pd.DataFrame(model.history.history)\nplt.plot(range(1, len(lossest)+1), lossest['loss'], color ='r', label = 'Training loss')\nplt.plot(range(1, len(lossest)+1), lossest['val_loss'], color = 'b', label = 'Validation Loss')\nplt.title('Training and validation loss')\nplt.xlabel('Epochs')\nplt.ylabel('Loss')\nplt.legend()\n\nplt.show()"
   },
   "outputs": [
    {
     "data": {
      "image/png": "[encoded data removed]",
      "text/plain": [
       "<Figure size 432x288 with 1 Axes>"
      ]
     },
     "metadata": {
      "needs_background": "light"
     },
     "output_type": "display_data"
    }
   ],
   "source": [
    "# Create a graph comparing training and validation loss\n",
    "lossest = pd.DataFrame(model.history.history)\n",
    "plt.plot(range(1, len(lossest)+1), lossest['loss'], color ='r', label = 'Training loss')\n",
    "plt.plot(range(1, len(lossest)+1), lossest['val_loss'], color = 'b', label = 'Validation Loss')\n",
    "plt.title('Training and validation loss')\n",
    "plt.xlabel('Epochs')\n",
    "plt.ylabel('Loss')\n",
    "plt.legend()\n",
    "\n",
    "plt.show()"
   ]
  },
  {
   "cell_type": "code",
   "execution_count": 57,
   "id": "0e1e42a1-ce79-4468-84f2-f1448d76bd41",
   "metadata": {
    "executionTime": 28,
    "lastSuccessfullyExecutedCode": "# Create a graph comparing training and validation accuracy\nplt.plot(range(1, len(lossest)+1), lossest['accuracy'], color ='r', label = 'Training Accuracy')\nplt.plot(range(1, len(lossest)+1), lossest['val_accuracy'], color = 'b', label = 'Validation Accuracy')\nplt.title('Training and validation accuracy')\nplt.xlabel('Epochs')\nplt.ylabel('Loss')\nplt.legend()\n\nplt.show()"
   },
   "outputs": [
    {
     "data": {
      "image/png": "[encoded data removed]",
      "text/plain": [
       "<Figure size 432x288 with 1 Axes>"
      ]
     },
     "metadata": {
      "needs_background": "light"
     },
     "output_type": "display_data"
    }
   ],
   "source": [
    "# Create a graph comparing training and validation accuracy\n",
    "plt.plot(range(1, len(lossest)+1), lossest['accuracy'], color ='r', label = 'Training Accuracy')\n",
    "plt.plot(range(1, len(lossest)+1), lossest['val_accuracy'], color = 'b', label = 'Validation Accuracy')\n",
    "plt.title('Training and validation accuracy')\n",
    "plt.xlabel('Epochs')\n",
    "plt.ylabel('Loss')\n",
    "plt.legend()\n",
    "\n",
    "plt.show()"
   ]
  },
  {
   "cell_type": "code",
   "execution_count": 58,
   "id": "2abd11ec-16c5-4d27-8611-a7c9e46f9b98",
   "metadata": {
    "executionTime": 102,
    "lastSuccessfullyExecutedCode": "# evaluate the model\ntrain_loss, train_acc = model.evaluate(X_train, y_train_nn, verbose =0)\ntest_loss, test_acc = model.evaluate(X_test, y_test_nn, verbose =0)\nprint(f'Train loss:{round(train_loss, 2)};', f'Test loss:{round(test_loss, 2)}')\nprint(f'Train accuracy: {round(train_acc, 2)};', f'Test accuracy: {round(test_acc, 2)}')"
   },
   "outputs": [
    {
     "name": "stdout",
     "output_type": "stream",
     "text": [
      "Train loss:0.51; Test loss:0.54\n",
      "Train accuracy: 0.75; Test accuracy: 0.74\n"
     ]
    }
   ],
   "source": [
    "# evaluate the model\n",
    "train_loss, train_acc = model.evaluate(X_train, y_train_nn, verbose =0)\n",
    "test_loss, test_acc = model.evaluate(X_test, y_test_nn, verbose =0)\n",
    "print(f'Train loss:{round(train_loss, 2)};', f'Test loss:{round(test_loss, 2)}')\n",
    "print(f'Train accuracy: {round(train_acc, 2)};', f'Test accuracy: {round(test_acc, 2)}')"
   ]
  },
  {
   "cell_type": "code",
   "execution_count": 59,
   "id": "3d648c83-5032-4c26-a60a-e4f411fbf45c",
   "metadata": {
    "executionTime": 97,
    "lastSuccessfullyExecutedCode": "y_pred_nn = np.where(model.predict(X_test) > 0.5, 1,0).flatten()\nprint(classification_report(y_test, y_pred_nn))"
   },
   "outputs": [
    {
     "name": "stdout",
     "output_type": "stream",
     "text": [
      "12/12 [==============================] - 0s 1ms/step\n",
      "              precision    recall  f1-score   support\n",
      "\n",
      "           0       0.71      0.63      0.67       156\n",
      "           1       0.76      0.82      0.79       219\n",
      "\n",
      "    accuracy                           0.74       375\n",
      "   macro avg       0.74      0.73      0.73       375\n",
      "weighted avg       0.74      0.74      0.74       375\n",
      "\n"
     ]
    }
   ],
   "source": [
    "y_pred_nn = np.where(model.predict(X_test) > 0.5, 1,0).flatten()\n",
    "print(classification_report(y_test, y_pred_nn))"
   ]
  },
  {
   "cell_type": "markdown",
   "id": "b34c83fd-a1ff-4242-bc59-e1d7cfe5af05",
   "metadata": {},
   "source": [
    "It perform slightly better than our tuned logistic Regression and Gradient Boosting Classifier models, but worse than MLPClassifier model  with an accuracy of 74%"
   ]
  }
 ],
 "metadata": {
  "colab": {
   "name": "Welcome to DataCamp Workspaces.ipynb",
   "provenance": []
  },
  "kernelspec": {
   "display_name": "Python 3 (ipykernel)",
   "language": "python",
   "name": "python3"
  },
  "language_info": {
   "codemirror_mode": {
    "name": "ipython",
    "version": 3
   },
   "file_extension": ".py",
   "mimetype": "text/x-python",
   "name": "python",
   "nbconvert_exporter": "python",
   "pygments_lexer": "ipython3",
   "version": "3.10.5"
  }
 },
 "nbformat": 4,
 "nbformat_minor": 5
}
